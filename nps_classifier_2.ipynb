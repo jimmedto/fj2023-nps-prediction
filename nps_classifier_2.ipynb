{
 "cells": [
  {
   "cell_type": "code",
   "execution_count": 47,
   "metadata": {},
   "outputs": [],
   "source": [
    "import pandas as pd\n",
    "import numpy as np\n",
    "import matplotlib.pyplot as plt\n",
    "import seaborn as sns"
   ]
  },
  {
   "attachments": {},
   "cell_type": "markdown",
   "metadata": {},
   "source": [
    "# **EDA** and data preparation"
   ]
  },
  {
   "cell_type": "code",
   "execution_count": 190,
   "metadata": {},
   "outputs": [
    {
     "data": {
      "text/plain": [
       "(16680, 21)"
      ]
     },
     "execution_count": 190,
     "metadata": {},
     "output_type": "execute_result"
    }
   ],
   "source": [
    "df = pd.read_csv('Clean_EDA_Third_Analysis.csv')\n",
    "df.shape"
   ]
  },
  {
   "cell_type": "code",
   "execution_count": 191,
   "metadata": {},
   "outputs": [],
   "source": [
    "# Remove hub_to_first_offer greater to 20 and less than 0\n",
    "df = df[(df['hub_to_first_offer'] >= 0) & (df['hub_to_first_offer'] <= 20)]"
   ]
  },
  {
   "cell_type": "code",
   "execution_count": 50,
   "metadata": {},
   "outputs": [
    {
     "name": "stdout",
     "output_type": "stream",
     "text": [
      "<class 'pandas.core.frame.DataFrame'>\n",
      "Index: 16225 entries, 0 to 16679\n",
      "Data columns (total 21 columns):\n",
      " #   Column                   Non-Null Count  Dtype  \n",
      "---  ------                   --------------  -----  \n",
      " 0   carrier                  16225 non-null  object \n",
      " 1   hub                      16225 non-null  object \n",
      " 2   source_location_id       16225 non-null  object \n",
      " 3   brand                    16225 non-null  object \n",
      " 4   zone                     16225 non-null  object \n",
      " 5   on_time_to_window        16225 non-null  object \n",
      " 6   sales_channel            16225 non-null  object \n",
      " 7   has_a_scope              16225 non-null  int64  \n",
      " 8   ease_of_delivery         16225 non-null  float64\n",
      " 9   ease_of_scheduling       16225 non-null  float64\n",
      " 10  delivery_weekday         16225 non-null  int64  \n",
      " 11  delivery_month           16225 non-null  int64  \n",
      " 12  create_to_deliver        16225 non-null  float64\n",
      " 13  create_to_first_offer    16225 non-null  float64\n",
      " 14  create_to_visible        16225 non-null  float64\n",
      " 15  first_offer_to_delivery  16225 non-null  float64\n",
      " 16  hub_to_first_offer       16225 non-null  float64\n",
      " 17  ship_to_hub              16225 non-null  float64\n",
      " 18  visible_to_ship          16225 non-null  float64\n",
      " 19  create_to_ship           16225 non-null  float64\n",
      " 20  nps_score                16225 non-null  float64\n",
      "dtypes: float64(11), int64(3), object(7)\n",
      "memory usage: 2.7+ MB\n"
     ]
    }
   ],
   "source": [
    "# Check columns, data types and non-null values\n",
    "df.info()"
   ]
  },
  {
   "attachments": {},
   "cell_type": "markdown",
   "metadata": {},
   "source": [
    "NOTE: ease_of_delivery and ease_of_scheduling WON'T be considered in the training, as those fields get filled at the same time as the NPS score"
   ]
  },
  {
   "cell_type": "code",
   "execution_count": 192,
   "metadata": {},
   "outputs": [],
   "source": [
    "# Get a copy of the original dataset, WITHOUT the two main influencers (ease_of_delivery and ease_of_scheduling)\n",
    "nps_dataset = df.drop(columns=[\"ease_of_delivery\",\"ease_of_scheduling\"])"
   ]
  },
  {
   "cell_type": "code",
   "execution_count": 52,
   "metadata": {},
   "outputs": [
    {
     "data": {
      "text/html": [
       "<div>\n",
       "<style scoped>\n",
       "    .dataframe tbody tr th:only-of-type {\n",
       "        vertical-align: middle;\n",
       "    }\n",
       "\n",
       "    .dataframe tbody tr th {\n",
       "        vertical-align: top;\n",
       "    }\n",
       "\n",
       "    .dataframe thead th {\n",
       "        text-align: right;\n",
       "    }\n",
       "</style>\n",
       "<table border=\"1\" class=\"dataframe\">\n",
       "  <thead>\n",
       "    <tr style=\"text-align: right;\">\n",
       "      <th></th>\n",
       "      <th>carrier</th>\n",
       "      <th>hub</th>\n",
       "      <th>source_location_id</th>\n",
       "      <th>brand</th>\n",
       "      <th>zone</th>\n",
       "      <th>on_time_to_window</th>\n",
       "      <th>sales_channel</th>\n",
       "      <th>has_a_scope</th>\n",
       "      <th>delivery_weekday</th>\n",
       "      <th>delivery_month</th>\n",
       "      <th>create_to_deliver</th>\n",
       "      <th>create_to_first_offer</th>\n",
       "      <th>create_to_visible</th>\n",
       "      <th>first_offer_to_delivery</th>\n",
       "      <th>hub_to_first_offer</th>\n",
       "      <th>ship_to_hub</th>\n",
       "      <th>visible_to_ship</th>\n",
       "      <th>create_to_ship</th>\n",
       "      <th>nps_score</th>\n",
       "    </tr>\n",
       "  </thead>\n",
       "  <tbody>\n",
       "    <tr>\n",
       "      <th>0</th>\n",
       "      <td>SPCG</td>\n",
       "      <td>WAKE</td>\n",
       "      <td>75</td>\n",
       "      <td>TEMPUR</td>\n",
       "      <td>Zone 3</td>\n",
       "      <td>On time</td>\n",
       "      <td>TRS</td>\n",
       "      <td>0</td>\n",
       "      <td>2</td>\n",
       "      <td>8</td>\n",
       "      <td>19.666667</td>\n",
       "      <td>9.583333</td>\n",
       "      <td>1.541667</td>\n",
       "      <td>10.083333</td>\n",
       "      <td>3.041667</td>\n",
       "      <td>0.791667</td>\n",
       "      <td>4.208333</td>\n",
       "      <td>5.0</td>\n",
       "      <td>10.0</td>\n",
       "    </tr>\n",
       "    <tr>\n",
       "      <th>1</th>\n",
       "      <td>DRYN</td>\n",
       "      <td>HILE</td>\n",
       "      <td>421</td>\n",
       "      <td>SEALY</td>\n",
       "      <td>Zone 3</td>\n",
       "      <td>Late</td>\n",
       "      <td>Big Lots</td>\n",
       "      <td>1</td>\n",
       "      <td>4</td>\n",
       "      <td>3</td>\n",
       "      <td>15.541667</td>\n",
       "      <td>8.541667</td>\n",
       "      <td>6.791667</td>\n",
       "      <td>7.000000</td>\n",
       "      <td>1.208333</td>\n",
       "      <td>0.250000</td>\n",
       "      <td>0.291667</td>\n",
       "      <td>7.0</td>\n",
       "      <td>10.0</td>\n",
       "    </tr>\n",
       "    <tr>\n",
       "      <th>2</th>\n",
       "      <td>DRYN</td>\n",
       "      <td>HILE</td>\n",
       "      <td>421</td>\n",
       "      <td>SEALY</td>\n",
       "      <td>Zone 3</td>\n",
       "      <td>On time</td>\n",
       "      <td>640</td>\n",
       "      <td>0</td>\n",
       "      <td>4</td>\n",
       "      <td>3</td>\n",
       "      <td>10.458333</td>\n",
       "      <td>5.541667</td>\n",
       "      <td>3.666667</td>\n",
       "      <td>4.916667</td>\n",
       "      <td>1.125000</td>\n",
       "      <td>0.166667</td>\n",
       "      <td>0.583333</td>\n",
       "      <td>4.0</td>\n",
       "      <td>10.0</td>\n",
       "    </tr>\n",
       "    <tr>\n",
       "      <th>3</th>\n",
       "      <td>DRYN</td>\n",
       "      <td>SANA</td>\n",
       "      <td>439</td>\n",
       "      <td>SEALY</td>\n",
       "      <td>Zone 3</td>\n",
       "      <td>On time</td>\n",
       "      <td>S&amp;F.com</td>\n",
       "      <td>0</td>\n",
       "      <td>4</td>\n",
       "      <td>12</td>\n",
       "      <td>22.291667</td>\n",
       "      <td>7.500000</td>\n",
       "      <td>3.708333</td>\n",
       "      <td>14.791667</td>\n",
       "      <td>1.083333</td>\n",
       "      <td>0.208333</td>\n",
       "      <td>2.500000</td>\n",
       "      <td>6.0</td>\n",
       "      <td>10.0</td>\n",
       "    </tr>\n",
       "    <tr>\n",
       "      <th>4</th>\n",
       "      <td>SSYS</td>\n",
       "      <td>NAVI</td>\n",
       "      <td>450</td>\n",
       "      <td>SEALY</td>\n",
       "      <td>Zone 3</td>\n",
       "      <td>On time</td>\n",
       "      <td>S&amp;F.com</td>\n",
       "      <td>0</td>\n",
       "      <td>4</td>\n",
       "      <td>12</td>\n",
       "      <td>29.416667</td>\n",
       "      <td>22.583333</td>\n",
       "      <td>14.916667</td>\n",
       "      <td>6.833333</td>\n",
       "      <td>7.041667</td>\n",
       "      <td>0.041667</td>\n",
       "      <td>0.583333</td>\n",
       "      <td>15.0</td>\n",
       "      <td>10.0</td>\n",
       "    </tr>\n",
       "  </tbody>\n",
       "</table>\n",
       "</div>"
      ],
      "text/plain": [
       "  carrier   hub source_location_id   brand    zone on_time_to_window   \n",
       "0    SPCG  WAKE                 75  TEMPUR  Zone 3           On time  \\\n",
       "1    DRYN  HILE                421   SEALY  Zone 3              Late   \n",
       "2    DRYN  HILE                421   SEALY  Zone 3           On time   \n",
       "3    DRYN  SANA                439   SEALY  Zone 3           On time   \n",
       "4    SSYS  NAVI                450   SEALY  Zone 3           On time   \n",
       "\n",
       "  sales_channel  has_a_scope  delivery_weekday  delivery_month   \n",
       "0           TRS            0                 2               8  \\\n",
       "1      Big Lots            1                 4               3   \n",
       "2           640            0                 4               3   \n",
       "3       S&F.com            0                 4              12   \n",
       "4       S&F.com            0                 4              12   \n",
       "\n",
       "   create_to_deliver  create_to_first_offer  create_to_visible   \n",
       "0          19.666667               9.583333           1.541667  \\\n",
       "1          15.541667               8.541667           6.791667   \n",
       "2          10.458333               5.541667           3.666667   \n",
       "3          22.291667               7.500000           3.708333   \n",
       "4          29.416667              22.583333          14.916667   \n",
       "\n",
       "   first_offer_to_delivery  hub_to_first_offer  ship_to_hub  visible_to_ship   \n",
       "0                10.083333            3.041667     0.791667         4.208333  \\\n",
       "1                 7.000000            1.208333     0.250000         0.291667   \n",
       "2                 4.916667            1.125000     0.166667         0.583333   \n",
       "3                14.791667            1.083333     0.208333         2.500000   \n",
       "4                 6.833333            7.041667     0.041667         0.583333   \n",
       "\n",
       "   create_to_ship  nps_score  \n",
       "0             5.0       10.0  \n",
       "1             7.0       10.0  \n",
       "2             4.0       10.0  \n",
       "3             6.0       10.0  \n",
       "4            15.0       10.0  "
      ]
     },
     "execution_count": 52,
     "metadata": {},
     "output_type": "execute_result"
    }
   ],
   "source": [
    "nps_dataset.head()"
   ]
  },
  {
   "attachments": {},
   "cell_type": "markdown",
   "metadata": {},
   "source": [
    "### ***Class labeling***\n",
    "We need to label each record with the corresponding class:  \n",
    "**CLASS 1 (positive class) - detractors:** those records that show an nps_score of less than 7  \n",
    "**CLASS 2 (negative class) non-detractors** non-detractors the ones with nps_score of 7 and higher"
   ]
  },
  {
   "cell_type": "code",
   "execution_count": 193,
   "metadata": {},
   "outputs": [],
   "source": [
    "# is_detractor column:\n",
    "nps_dataset[\"is_detractor\"]=nps_dataset[\"nps_score\"]<=6\n",
    "nps_dataset[\"is_detractor\"]=nps_dataset[\"is_detractor\"].astype(int)"
   ]
  },
  {
   "cell_type": "code",
   "execution_count": 194,
   "metadata": {},
   "outputs": [
    {
     "data": {
      "text/html": [
       "<div>\n",
       "<style scoped>\n",
       "    .dataframe tbody tr th:only-of-type {\n",
       "        vertical-align: middle;\n",
       "    }\n",
       "\n",
       "    .dataframe tbody tr th {\n",
       "        vertical-align: top;\n",
       "    }\n",
       "\n",
       "    .dataframe thead th {\n",
       "        text-align: right;\n",
       "    }\n",
       "</style>\n",
       "<table border=\"1\" class=\"dataframe\">\n",
       "  <thead>\n",
       "    <tr style=\"text-align: right;\">\n",
       "      <th></th>\n",
       "      <th>nps_score</th>\n",
       "      <th>is_detractor</th>\n",
       "    </tr>\n",
       "  </thead>\n",
       "  <tbody>\n",
       "    <tr>\n",
       "      <th>2416</th>\n",
       "      <td>10.0</td>\n",
       "      <td>0</td>\n",
       "    </tr>\n",
       "    <tr>\n",
       "      <th>13879</th>\n",
       "      <td>1.0</td>\n",
       "      <td>1</td>\n",
       "    </tr>\n",
       "    <tr>\n",
       "      <th>13817</th>\n",
       "      <td>9.0</td>\n",
       "      <td>0</td>\n",
       "    </tr>\n",
       "    <tr>\n",
       "      <th>15873</th>\n",
       "      <td>9.0</td>\n",
       "      <td>0</td>\n",
       "    </tr>\n",
       "    <tr>\n",
       "      <th>15162</th>\n",
       "      <td>5.0</td>\n",
       "      <td>1</td>\n",
       "    </tr>\n",
       "    <tr>\n",
       "      <th>3047</th>\n",
       "      <td>10.0</td>\n",
       "      <td>0</td>\n",
       "    </tr>\n",
       "    <tr>\n",
       "      <th>12624</th>\n",
       "      <td>5.0</td>\n",
       "      <td>1</td>\n",
       "    </tr>\n",
       "    <tr>\n",
       "      <th>16177</th>\n",
       "      <td>4.0</td>\n",
       "      <td>1</td>\n",
       "    </tr>\n",
       "    <tr>\n",
       "      <th>9711</th>\n",
       "      <td>10.0</td>\n",
       "      <td>0</td>\n",
       "    </tr>\n",
       "    <tr>\n",
       "      <th>6652</th>\n",
       "      <td>10.0</td>\n",
       "      <td>0</td>\n",
       "    </tr>\n",
       "  </tbody>\n",
       "</table>\n",
       "</div>"
      ],
      "text/plain": [
       "       nps_score  is_detractor\n",
       "2416        10.0             0\n",
       "13879        1.0             1\n",
       "13817        9.0             0\n",
       "15873        9.0             0\n",
       "15162        5.0             1\n",
       "3047        10.0             0\n",
       "12624        5.0             1\n",
       "16177        4.0             1\n",
       "9711        10.0             0\n",
       "6652        10.0             0"
      ]
     },
     "execution_count": 194,
     "metadata": {},
     "output_type": "execute_result"
    }
   ],
   "source": [
    "# test a random sample: \n",
    "nps_dataset[[\"nps_score\",\"is_detractor\"]].sample(n=10)"
   ]
  },
  {
   "attachments": {},
   "cell_type": "markdown",
   "metadata": {},
   "source": [
    "### ***Correlation***"
   ]
  },
  {
   "cell_type": "code",
   "execution_count": 195,
   "metadata": {},
   "outputs": [
    {
     "data": {
      "text/plain": [
       "has_a_scope                0.154279\n",
       "create_to_deliver          0.078283\n",
       "create_to_first_offer      0.070553\n",
       "create_to_visible          0.024160\n",
       "first_offer_to_delivery    0.035376\n",
       "hub_to_first_offer         0.058828\n",
       "ship_to_hub                0.047378\n",
       "visible_to_ship           -0.004875\n",
       "create_to_ship             0.016599\n",
       "is_detractor               1.000000\n",
       "Name: Correlation with nps score, dtype: float64"
      ]
     },
     "execution_count": 195,
     "metadata": {},
     "output_type": "execute_result"
    }
   ],
   "source": [
    "nps_dataset.drop(columns=[\"nps_score\"], inplace=True)\n",
    "numerical_df = nps_dataset[['has_a_scope', 'create_to_deliver', 'create_to_first_offer',\n",
    "    'create_to_visible', 'first_offer_to_delivery', 'hub_to_first_offer',\n",
    "    'ship_to_hub', 'visible_to_ship', 'create_to_ship', 'is_detractor']]\n",
    "numerical_df.corr()[\"is_detractor\"].rename(\"Correlation with nps score\")"
   ]
  },
  {
   "cell_type": "code",
   "execution_count": 56,
   "metadata": {},
   "outputs": [
    {
     "data": {
      "text/plain": [
       "Text(0.5, 1.0, 'NPS Correlation Heatmap')"
      ]
     },
     "execution_count": 56,
     "metadata": {},
     "output_type": "execute_result"
    },
    {
     "data": {
      "image/png": "[encoded data removed]",
      "text/plain": [
       "<Figure size 1600x600 with 2 Axes>"
      ]
     },
     "metadata": {},
     "output_type": "display_data"
    }
   ],
   "source": [
    "plt.figure(\"correlation heat map\",figsize=(16, 6))\n",
    "nps_corr_heatmap = sns.heatmap(numerical_df.corr(),vmin=-1, vmax=1, annot=True)\n",
    "nps_corr_heatmap.set_title('NPS Correlation Heatmap', fontdict={'fontsize':14}, pad=12)"
   ]
  },
  {
   "attachments": {},
   "cell_type": "markdown",
   "metadata": {},
   "source": [
    "### ***Encoding***"
   ]
  },
  {
   "attachments": {},
   "cell_type": "markdown",
   "metadata": {},
   "source": [
    "One-hot was the first option, but after implementing it the dataframe resulted in 176 columns, and we don't want to overfit the model."
   ]
  },
  {
   "cell_type": "code",
   "execution_count": 57,
   "metadata": {},
   "outputs": [],
   "source": [
    "# List object columns\n",
    "categorical_cols = nps_dataset.select_dtypes(include=['object']).columns\n",
    "\n",
    "# Apply dummy encoding to each column with categorical data\n",
    "encoded_df = pd.get_dummies(nps_dataset, columns=categorical_cols, drop_first=True)\n"
   ]
  },
  {
   "cell_type": "code",
   "execution_count": 58,
   "metadata": {},
   "outputs": [
    {
     "data": {
      "text/html": [
       "<div>\n",
       "<style scoped>\n",
       "    .dataframe tbody tr th:only-of-type {\n",
       "        vertical-align: middle;\n",
       "    }\n",
       "\n",
       "    .dataframe tbody tr th {\n",
       "        vertical-align: top;\n",
       "    }\n",
       "\n",
       "    .dataframe thead th {\n",
       "        text-align: right;\n",
       "    }\n",
       "</style>\n",
       "<table border=\"1\" class=\"dataframe\">\n",
       "  <thead>\n",
       "    <tr style=\"text-align: right;\">\n",
       "      <th></th>\n",
       "      <th>has_a_scope</th>\n",
       "      <th>delivery_weekday</th>\n",
       "      <th>delivery_month</th>\n",
       "      <th>create_to_deliver</th>\n",
       "      <th>create_to_first_offer</th>\n",
       "      <th>create_to_visible</th>\n",
       "      <th>first_offer_to_delivery</th>\n",
       "      <th>hub_to_first_offer</th>\n",
       "      <th>ship_to_hub</th>\n",
       "      <th>visible_to_ship</th>\n",
       "      <th>...</th>\n",
       "      <th>sales_channel_Costco</th>\n",
       "      <th>sales_channel_Direct to Consumer</th>\n",
       "      <th>sales_channel_Exchange</th>\n",
       "      <th>sales_channel_Other</th>\n",
       "      <th>sales_channel_Resident Home</th>\n",
       "      <th>sales_channel_S&amp;F.com</th>\n",
       "      <th>sales_channel_Sam's</th>\n",
       "      <th>sales_channel_Sealy.com</th>\n",
       "      <th>sales_channel_TRS</th>\n",
       "      <th>sales_channel_Wayfair</th>\n",
       "    </tr>\n",
       "  </thead>\n",
       "  <tbody>\n",
       "    <tr>\n",
       "      <th>0</th>\n",
       "      <td>0</td>\n",
       "      <td>2</td>\n",
       "      <td>8</td>\n",
       "      <td>19.666667</td>\n",
       "      <td>9.583333</td>\n",
       "      <td>1.541667</td>\n",
       "      <td>10.083333</td>\n",
       "      <td>3.041667</td>\n",
       "      <td>0.791667</td>\n",
       "      <td>4.208333</td>\n",
       "      <td>...</td>\n",
       "      <td>False</td>\n",
       "      <td>False</td>\n",
       "      <td>False</td>\n",
       "      <td>False</td>\n",
       "      <td>False</td>\n",
       "      <td>False</td>\n",
       "      <td>False</td>\n",
       "      <td>False</td>\n",
       "      <td>True</td>\n",
       "      <td>False</td>\n",
       "    </tr>\n",
       "    <tr>\n",
       "      <th>1</th>\n",
       "      <td>1</td>\n",
       "      <td>4</td>\n",
       "      <td>3</td>\n",
       "      <td>15.541667</td>\n",
       "      <td>8.541667</td>\n",
       "      <td>6.791667</td>\n",
       "      <td>7.000000</td>\n",
       "      <td>1.208333</td>\n",
       "      <td>0.250000</td>\n",
       "      <td>0.291667</td>\n",
       "      <td>...</td>\n",
       "      <td>False</td>\n",
       "      <td>False</td>\n",
       "      <td>False</td>\n",
       "      <td>False</td>\n",
       "      <td>False</td>\n",
       "      <td>False</td>\n",
       "      <td>False</td>\n",
       "      <td>False</td>\n",
       "      <td>False</td>\n",
       "      <td>False</td>\n",
       "    </tr>\n",
       "    <tr>\n",
       "      <th>2</th>\n",
       "      <td>0</td>\n",
       "      <td>4</td>\n",
       "      <td>3</td>\n",
       "      <td>10.458333</td>\n",
       "      <td>5.541667</td>\n",
       "      <td>3.666667</td>\n",
       "      <td>4.916667</td>\n",
       "      <td>1.125000</td>\n",
       "      <td>0.166667</td>\n",
       "      <td>0.583333</td>\n",
       "      <td>...</td>\n",
       "      <td>False</td>\n",
       "      <td>False</td>\n",
       "      <td>False</td>\n",
       "      <td>False</td>\n",
       "      <td>False</td>\n",
       "      <td>False</td>\n",
       "      <td>False</td>\n",
       "      <td>False</td>\n",
       "      <td>False</td>\n",
       "      <td>False</td>\n",
       "    </tr>\n",
       "    <tr>\n",
       "      <th>3</th>\n",
       "      <td>0</td>\n",
       "      <td>4</td>\n",
       "      <td>12</td>\n",
       "      <td>22.291667</td>\n",
       "      <td>7.500000</td>\n",
       "      <td>3.708333</td>\n",
       "      <td>14.791667</td>\n",
       "      <td>1.083333</td>\n",
       "      <td>0.208333</td>\n",
       "      <td>2.500000</td>\n",
       "      <td>...</td>\n",
       "      <td>False</td>\n",
       "      <td>False</td>\n",
       "      <td>False</td>\n",
       "      <td>False</td>\n",
       "      <td>False</td>\n",
       "      <td>True</td>\n",
       "      <td>False</td>\n",
       "      <td>False</td>\n",
       "      <td>False</td>\n",
       "      <td>False</td>\n",
       "    </tr>\n",
       "    <tr>\n",
       "      <th>4</th>\n",
       "      <td>0</td>\n",
       "      <td>4</td>\n",
       "      <td>12</td>\n",
       "      <td>29.416667</td>\n",
       "      <td>22.583333</td>\n",
       "      <td>14.916667</td>\n",
       "      <td>6.833333</td>\n",
       "      <td>7.041667</td>\n",
       "      <td>0.041667</td>\n",
       "      <td>0.583333</td>\n",
       "      <td>...</td>\n",
       "      <td>False</td>\n",
       "      <td>False</td>\n",
       "      <td>False</td>\n",
       "      <td>False</td>\n",
       "      <td>False</td>\n",
       "      <td>True</td>\n",
       "      <td>False</td>\n",
       "      <td>False</td>\n",
       "      <td>False</td>\n",
       "      <td>False</td>\n",
       "    </tr>\n",
       "    <tr>\n",
       "      <th>...</th>\n",
       "      <td>...</td>\n",
       "      <td>...</td>\n",
       "      <td>...</td>\n",
       "      <td>...</td>\n",
       "      <td>...</td>\n",
       "      <td>...</td>\n",
       "      <td>...</td>\n",
       "      <td>...</td>\n",
       "      <td>...</td>\n",
       "      <td>...</td>\n",
       "      <td>...</td>\n",
       "      <td>...</td>\n",
       "      <td>...</td>\n",
       "      <td>...</td>\n",
       "      <td>...</td>\n",
       "      <td>...</td>\n",
       "      <td>...</td>\n",
       "      <td>...</td>\n",
       "      <td>...</td>\n",
       "      <td>...</td>\n",
       "      <td>...</td>\n",
       "    </tr>\n",
       "    <tr>\n",
       "      <th>16674</th>\n",
       "      <td>0</td>\n",
       "      <td>6</td>\n",
       "      <td>8</td>\n",
       "      <td>18.416667</td>\n",
       "      <td>11.583333</td>\n",
       "      <td>0.708333</td>\n",
       "      <td>6.833333</td>\n",
       "      <td>7.083333</td>\n",
       "      <td>3.125000</td>\n",
       "      <td>0.666667</td>\n",
       "      <td>...</td>\n",
       "      <td>False</td>\n",
       "      <td>True</td>\n",
       "      <td>False</td>\n",
       "      <td>False</td>\n",
       "      <td>False</td>\n",
       "      <td>False</td>\n",
       "      <td>False</td>\n",
       "      <td>False</td>\n",
       "      <td>False</td>\n",
       "      <td>False</td>\n",
       "    </tr>\n",
       "    <tr>\n",
       "      <th>16675</th>\n",
       "      <td>0</td>\n",
       "      <td>6</td>\n",
       "      <td>10</td>\n",
       "      <td>8.583333</td>\n",
       "      <td>8.583333</td>\n",
       "      <td>0.708333</td>\n",
       "      <td>0.000000</td>\n",
       "      <td>3.041667</td>\n",
       "      <td>3.625000</td>\n",
       "      <td>1.208333</td>\n",
       "      <td>...</td>\n",
       "      <td>False</td>\n",
       "      <td>True</td>\n",
       "      <td>False</td>\n",
       "      <td>False</td>\n",
       "      <td>False</td>\n",
       "      <td>False</td>\n",
       "      <td>False</td>\n",
       "      <td>False</td>\n",
       "      <td>False</td>\n",
       "      <td>False</td>\n",
       "    </tr>\n",
       "    <tr>\n",
       "      <th>16676</th>\n",
       "      <td>0</td>\n",
       "      <td>3</td>\n",
       "      <td>5</td>\n",
       "      <td>7.708333</td>\n",
       "      <td>7.500000</td>\n",
       "      <td>0.708333</td>\n",
       "      <td>0.208333</td>\n",
       "      <td>5.125000</td>\n",
       "      <td>0.916667</td>\n",
       "      <td>0.750000</td>\n",
       "      <td>...</td>\n",
       "      <td>False</td>\n",
       "      <td>True</td>\n",
       "      <td>False</td>\n",
       "      <td>False</td>\n",
       "      <td>False</td>\n",
       "      <td>False</td>\n",
       "      <td>False</td>\n",
       "      <td>False</td>\n",
       "      <td>False</td>\n",
       "      <td>False</td>\n",
       "    </tr>\n",
       "    <tr>\n",
       "      <th>16678</th>\n",
       "      <td>0</td>\n",
       "      <td>6</td>\n",
       "      <td>3</td>\n",
       "      <td>22.583333</td>\n",
       "      <td>22.541667</td>\n",
       "      <td>0.708333</td>\n",
       "      <td>0.041667</td>\n",
       "      <td>17.166667</td>\n",
       "      <td>3.916667</td>\n",
       "      <td>0.750000</td>\n",
       "      <td>...</td>\n",
       "      <td>False</td>\n",
       "      <td>True</td>\n",
       "      <td>False</td>\n",
       "      <td>False</td>\n",
       "      <td>False</td>\n",
       "      <td>False</td>\n",
       "      <td>False</td>\n",
       "      <td>False</td>\n",
       "      <td>False</td>\n",
       "      <td>False</td>\n",
       "    </tr>\n",
       "    <tr>\n",
       "      <th>16679</th>\n",
       "      <td>0</td>\n",
       "      <td>6</td>\n",
       "      <td>5</td>\n",
       "      <td>31.333333</td>\n",
       "      <td>10.583333</td>\n",
       "      <td>0.708333</td>\n",
       "      <td>20.750000</td>\n",
       "      <td>9.083333</td>\n",
       "      <td>0.125000</td>\n",
       "      <td>0.666667</td>\n",
       "      <td>...</td>\n",
       "      <td>False</td>\n",
       "      <td>True</td>\n",
       "      <td>False</td>\n",
       "      <td>False</td>\n",
       "      <td>False</td>\n",
       "      <td>False</td>\n",
       "      <td>False</td>\n",
       "      <td>False</td>\n",
       "      <td>False</td>\n",
       "      <td>False</td>\n",
       "    </tr>\n",
       "  </tbody>\n",
       "</table>\n",
       "<p>16225 rows × 171 columns</p>\n",
       "</div>"
      ],
      "text/plain": [
       "       has_a_scope  delivery_weekday  delivery_month  create_to_deliver   \n",
       "0                0                 2               8          19.666667  \\\n",
       "1                1                 4               3          15.541667   \n",
       "2                0                 4               3          10.458333   \n",
       "3                0                 4              12          22.291667   \n",
       "4                0                 4              12          29.416667   \n",
       "...            ...               ...             ...                ...   \n",
       "16674            0                 6               8          18.416667   \n",
       "16675            0                 6              10           8.583333   \n",
       "16676            0                 3               5           7.708333   \n",
       "16678            0                 6               3          22.583333   \n",
       "16679            0                 6               5          31.333333   \n",
       "\n",
       "       create_to_first_offer  create_to_visible  first_offer_to_delivery   \n",
       "0                   9.583333           1.541667                10.083333  \\\n",
       "1                   8.541667           6.791667                 7.000000   \n",
       "2                   5.541667           3.666667                 4.916667   \n",
       "3                   7.500000           3.708333                14.791667   \n",
       "4                  22.583333          14.916667                 6.833333   \n",
       "...                      ...                ...                      ...   \n",
       "16674              11.583333           0.708333                 6.833333   \n",
       "16675               8.583333           0.708333                 0.000000   \n",
       "16676               7.500000           0.708333                 0.208333   \n",
       "16678              22.541667           0.708333                 0.041667   \n",
       "16679              10.583333           0.708333                20.750000   \n",
       "\n",
       "       hub_to_first_offer  ship_to_hub  visible_to_ship  ...   \n",
       "0                3.041667     0.791667         4.208333  ...  \\\n",
       "1                1.208333     0.250000         0.291667  ...   \n",
       "2                1.125000     0.166667         0.583333  ...   \n",
       "3                1.083333     0.208333         2.500000  ...   \n",
       "4                7.041667     0.041667         0.583333  ...   \n",
       "...                   ...          ...              ...  ...   \n",
       "16674            7.083333     3.125000         0.666667  ...   \n",
       "16675            3.041667     3.625000         1.208333  ...   \n",
       "16676            5.125000     0.916667         0.750000  ...   \n",
       "16678           17.166667     3.916667         0.750000  ...   \n",
       "16679            9.083333     0.125000         0.666667  ...   \n",
       "\n",
       "       sales_channel_Costco  sales_channel_Direct to Consumer   \n",
       "0                     False                             False  \\\n",
       "1                     False                             False   \n",
       "2                     False                             False   \n",
       "3                     False                             False   \n",
       "4                     False                             False   \n",
       "...                     ...                               ...   \n",
       "16674                 False                              True   \n",
       "16675                 False                              True   \n",
       "16676                 False                              True   \n",
       "16678                 False                              True   \n",
       "16679                 False                              True   \n",
       "\n",
       "       sales_channel_Exchange  sales_channel_Other   \n",
       "0                       False                False  \\\n",
       "1                       False                False   \n",
       "2                       False                False   \n",
       "3                       False                False   \n",
       "4                       False                False   \n",
       "...                       ...                  ...   \n",
       "16674                   False                False   \n",
       "16675                   False                False   \n",
       "16676                   False                False   \n",
       "16678                   False                False   \n",
       "16679                   False                False   \n",
       "\n",
       "       sales_channel_Resident Home  sales_channel_S&F.com   \n",
       "0                            False                  False  \\\n",
       "1                            False                  False   \n",
       "2                            False                  False   \n",
       "3                            False                   True   \n",
       "4                            False                   True   \n",
       "...                            ...                    ...   \n",
       "16674                        False                  False   \n",
       "16675                        False                  False   \n",
       "16676                        False                  False   \n",
       "16678                        False                  False   \n",
       "16679                        False                  False   \n",
       "\n",
       "       sales_channel_Sam's  sales_channel_Sealy.com  sales_channel_TRS   \n",
       "0                    False                    False               True  \\\n",
       "1                    False                    False              False   \n",
       "2                    False                    False              False   \n",
       "3                    False                    False              False   \n",
       "4                    False                    False              False   \n",
       "...                    ...                      ...                ...   \n",
       "16674                False                    False              False   \n",
       "16675                False                    False              False   \n",
       "16676                False                    False              False   \n",
       "16678                False                    False              False   \n",
       "16679                False                    False              False   \n",
       "\n",
       "       sales_channel_Wayfair  \n",
       "0                      False  \n",
       "1                      False  \n",
       "2                      False  \n",
       "3                      False  \n",
       "4                      False  \n",
       "...                      ...  \n",
       "16674                  False  \n",
       "16675                  False  \n",
       "16676                  False  \n",
       "16678                  False  \n",
       "16679                  False  \n",
       "\n",
       "[16225 rows x 171 columns]"
      ]
     },
     "execution_count": 58,
     "metadata": {},
     "output_type": "execute_result"
    }
   ],
   "source": [
    "encoded_df"
   ]
  },
  {
   "attachments": {},
   "cell_type": "markdown",
   "metadata": {},
   "source": [
    "### ***Balancing***"
   ]
  },
  {
   "cell_type": "code",
   "execution_count": 59,
   "metadata": {},
   "outputs": [
    {
     "name": "stdout",
     "output_type": "stream",
     "text": [
      "Detractors: \t\t 2255 \t  13.90 %\n",
      "Non-detractors: \t13970 \t  86.10 %\n",
      "Total: \t\t\t16225 \t 100.00 %\n"
     ]
    }
   ],
   "source": [
    "# we can see that there are a lot of non-detractors compared with detractors, so this means the classes are highly unbalanced.\n",
    "# Indeed:\n",
    "detractors = nps_dataset[\"is_detractor\"].sum()\n",
    "non_detractors = (nps_dataset[\"is_detractor\"]==False).sum()\n",
    "total = detractors+non_detractors\n",
    "print(f'Detractors: \\t\\t {detractors} \\t  {detractors/total*100:.2f} %')\n",
    "print(f'Non-detractors: \\t{non_detractors} \\t  {non_detractors/total*100:.2f} %')\n",
    "print(f'Total: \\t\\t\\t{total} \\t {total/total*100:.2f} %')\n"
   ]
  },
  {
   "attachments": {},
   "cell_type": "markdown",
   "metadata": {},
   "source": [
    "# Predictive modeling\n",
    "We need to **figure out the likelihood of a customer having a lower nps score (i.e., being a detractor)** to have actionable insights from this metric. We are interested in whether or not a customer is a probable detractor, regardless of the magnitude of the nps score, so **this is a binary classification problem**."
   ]
  },
  {
   "attachments": {},
   "cell_type": "markdown",
   "metadata": {},
   "source": [
    "## ***Dummy-encoding***"
   ]
  },
  {
   "attachments": {},
   "cell_type": "markdown",
   "metadata": {},
   "source": [
    "### ***Dataset splitting***"
   ]
  },
  {
   "cell_type": "code",
   "execution_count": 143,
   "metadata": {},
   "outputs": [],
   "source": [
    "# split into train and test sets\n",
    "from sklearn.model_selection import train_test_split\n",
    "\n",
    "# Numerical features\n",
    "X = encoded_df.drop(columns=[\"is_detractor\"])\n",
    "y = encoded_df[\"is_detractor\"]\n",
    "\n",
    "X_train, X_test, y_train, y_test = train_test_split(X, y, test_size=0.15)\n",
    "\n",
    "# Split train set into train and validation sets\n",
    "X_train, X_val, y_train, y_val = train_test_split(X_train, y_train, test_size=0.2)\n"
   ]
  },
  {
   "cell_type": "code",
   "execution_count": 144,
   "metadata": {},
   "outputs": [
    {
     "name": "stdout",
     "output_type": "stream",
     "text": [
      "\t\t TRAIN-TEST Size\n",
      "Training set size: \t\t (11032, 170)\n",
      "Validation set size: \t\t (2759, 170)\n",
      "Test set size: \t\t\t (2434, 170)\n",
      "Training set labels size: \t (11032,)\n",
      "Validation set labels size: \t (2759,)\n",
      "Test set labels size: \t\t (2434,)\n"
     ]
    }
   ],
   "source": [
    "print(\"\\t\\t TRAIN-TEST Size\")\n",
    "print(\"Training set size: \\t\\t\", X_train.shape)    \n",
    "print(\"Validation set size: \\t\\t\", X_val.shape)    \n",
    "print(\"Test set size: \\t\\t\\t\", X_test.shape)    \n",
    "print(\"Training set labels size: \\t\", y_train.shape)    \n",
    "print(\"Validation set labels size: \\t\", y_val.shape)    \n",
    "print(\"Test set labels size: \\t\\t\", y_test.shape)   "
   ]
  },
  {
   "cell_type": "code",
   "execution_count": 145,
   "metadata": {},
   "outputs": [
    {
     "name": "stdout",
     "output_type": "stream",
     "text": [
      "\t\t\t CLASS PROPORTIONS\n",
      "TRAINING SET:\n",
      "\tPositive class (detractors):\t  1513 \t 13.71 %\n",
      "\tNegative class (non-detractors): 9519 \t 86.29 %\n",
      "\t\t\t\ttotals:  11032  100.00 %\n",
      "VALIDATION SET:\n",
      "\tPositive class (detractors):\t  404 \t 14.64 %\n",
      "\tNegative class (non-detractors): 2355 \t 85.36 %\n",
      "\t\t\t\ttotals:  2759  100.00 %\n",
      "\n",
      "TEST SET:\n",
      "\tPositive class (detractors):\t  338 \t13.89 %\n",
      "\tNegative class (non-detractors): 2096 \t86.11 %\n",
      "\t\t\t\ttotals:  2434  100.00 %\n"
     ]
    }
   ],
   "source": [
    "# Class proportions\n",
    "detractors_training_set=(y_train==1).sum()\n",
    "non_detractors_training_set=(y_train==0).sum()\n",
    "detractors_validation_set=(y_val==1).sum()\n",
    "non_detractors_validation_set=(y_val==0).sum()\n",
    "detractors_test_set=(y_test==1).sum()\n",
    "non_detractors_test_set=(y_test==0).sum()\n",
    "print(\"\\t\\t\\t CLASS PROPORTIONS\")\n",
    "print(\"TRAINING SET:\")\n",
    "print(\"\\tPositive class (detractors):\\t \", detractors_training_set, \"\\t {:.2f} %\".format(detractors_training_set/len(y_train)*100))    \n",
    "print(\"\\tNegative class (non-detractors):\", non_detractors_training_set, \"\\t {:.2f} %\".format(non_detractors_training_set/len(y_train)*100))    \n",
    "print(\"\\t\\t\\t\\ttotals: \",X_train.shape[0], \" 100.00 %\")\n",
    "print(\"VALIDATION SET:\")\n",
    "print(\"\\tPositive class (detractors):\\t \", detractors_validation_set, \"\\t {:.2f} %\".format(detractors_validation_set/len(y_val)*100))    \n",
    "print(\"\\tNegative class (non-detractors):\", non_detractors_validation_set, \"\\t {:.2f} %\".format(non_detractors_validation_set/len(y_val)*100))    \n",
    "print(\"\\t\\t\\t\\ttotals: \",X_val.shape[0], \" 100.00 %\")\n",
    "print(\"\\nTEST SET:\")\n",
    "print(\"\\tPositive class (detractors):\\t \", detractors_test_set, \"\\t{:.2f} %\".format(detractors_test_set/len(y_test)*100))    \n",
    "print(\"\\tNegative class (non-detractors):\", non_detractors_test_set, \"\\t{:.2f} %\".format(non_detractors_test_set/len(y_test)*100)) \n",
    "print(\"\\t\\t\\t\\ttotals: \",X_test.shape[0], \" 100.00 %\")"
   ]
  },
  {
   "attachments": {},
   "cell_type": "markdown",
   "metadata": {},
   "source": [
    "### ***XGBoost***"
   ]
  },
  {
   "cell_type": "code",
   "execution_count": 146,
   "metadata": {},
   "outputs": [],
   "source": [
    "import xgboost as xgb\n",
    "from xgboost import XGBClassifier\n",
    "\n",
    "xgb_model = XGBClassifier(objective='binary:logistic')"
   ]
  },
  {
   "cell_type": "code",
   "execution_count": 147,
   "metadata": {},
   "outputs": [
    {
     "name": "stderr",
     "output_type": "stream",
     "text": [
      "c:\\Users\\nahim\\Documents\\Escuela\\Profesional\\10mo sem\\Tesina\\.venv\\lib\\site-packages\\xgboost\\sklearn.py:835: UserWarning: `eval_metric` in `fit` method is deprecated for better compatibility with scikit-learn, use `eval_metric` in constructor or`set_params` instead.\n",
      "  warnings.warn(\n",
      "c:\\Users\\nahim\\Documents\\Escuela\\Profesional\\10mo sem\\Tesina\\.venv\\lib\\site-packages\\xgboost\\sklearn.py:835: UserWarning: `early_stopping_rounds` in `fit` method is deprecated for better compatibility with scikit-learn, use `early_stopping_rounds` in constructor or`set_params` instead.\n",
      "  warnings.warn(\n"
     ]
    },
    {
     "data": {
      "text/html": [
       "<style>#sk-container-id-14 {color: black;background-color: white;}#sk-container-id-14 pre{padding: 0;}#sk-container-id-14 div.sk-toggleable {background-color: white;}#sk-container-id-14 label.sk-toggleable__label {cursor: pointer;display: block;width: 100%;margin-bottom: 0;padding: 0.3em;box-sizing: border-box;text-align: center;}#sk-container-id-14 label.sk-toggleable__label-arrow:before {content: \"▸\";float: left;margin-right: 0.25em;color: #696969;}#sk-container-id-14 label.sk-toggleable__label-arrow:hover:before {color: black;}#sk-container-id-14 div.sk-estimator:hover label.sk-toggleable__label-arrow:before {color: black;}#sk-container-id-14 div.sk-toggleable__content {max-height: 0;max-width: 0;overflow: hidden;text-align: left;background-color: #f0f8ff;}#sk-container-id-14 div.sk-toggleable__content pre {margin: 0.2em;color: black;border-radius: 0.25em;background-color: #f0f8ff;}#sk-container-id-14 input.sk-toggleable__control:checked~div.sk-toggleable__content {max-height: 200px;max-width: 100%;overflow: auto;}#sk-container-id-14 input.sk-toggleable__control:checked~label.sk-toggleable__label-arrow:before {content: \"▾\";}#sk-container-id-14 div.sk-estimator input.sk-toggleable__control:checked~label.sk-toggleable__label {background-color: #d4ebff;}#sk-container-id-14 div.sk-label input.sk-toggleable__control:checked~label.sk-toggleable__label {background-color: #d4ebff;}#sk-container-id-14 input.sk-hidden--visually {border: 0;clip: rect(1px 1px 1px 1px);clip: rect(1px, 1px, 1px, 1px);height: 1px;margin: -1px;overflow: hidden;padding: 0;position: absolute;width: 1px;}#sk-container-id-14 div.sk-estimator {font-family: monospace;background-color: #f0f8ff;border: 1px dotted black;border-radius: 0.25em;box-sizing: border-box;margin-bottom: 0.5em;}#sk-container-id-14 div.sk-estimator:hover {background-color: #d4ebff;}#sk-container-id-14 div.sk-parallel-item::after {content: \"\";width: 100%;border-bottom: 1px solid gray;flex-grow: 1;}#sk-container-id-14 div.sk-label:hover label.sk-toggleable__label {background-color: #d4ebff;}#sk-container-id-14 div.sk-serial::before {content: \"\";position: absolute;border-left: 1px solid gray;box-sizing: border-box;top: 0;bottom: 0;left: 50%;z-index: 0;}#sk-container-id-14 div.sk-serial {display: flex;flex-direction: column;align-items: center;background-color: white;padding-right: 0.2em;padding-left: 0.2em;position: relative;}#sk-container-id-14 div.sk-item {position: relative;z-index: 1;}#sk-container-id-14 div.sk-parallel {display: flex;align-items: stretch;justify-content: center;background-color: white;position: relative;}#sk-container-id-14 div.sk-item::before, #sk-container-id-14 div.sk-parallel-item::before {content: \"\";position: absolute;border-left: 1px solid gray;box-sizing: border-box;top: 0;bottom: 0;left: 50%;z-index: -1;}#sk-container-id-14 div.sk-parallel-item {display: flex;flex-direction: column;z-index: 1;position: relative;background-color: white;}#sk-container-id-14 div.sk-parallel-item:first-child::after {align-self: flex-end;width: 50%;}#sk-container-id-14 div.sk-parallel-item:last-child::after {align-self: flex-start;width: 50%;}#sk-container-id-14 div.sk-parallel-item:only-child::after {width: 0;}#sk-container-id-14 div.sk-dashed-wrapped {border: 1px dashed gray;margin: 0 0.4em 0.5em 0.4em;box-sizing: border-box;padding-bottom: 0.4em;background-color: white;}#sk-container-id-14 div.sk-label label {font-family: monospace;font-weight: bold;display: inline-block;line-height: 1.2em;}#sk-container-id-14 div.sk-label-container {text-align: center;}#sk-container-id-14 div.sk-container {/* jupyter's `normalize.less` sets `[hidden] { display: none; }` but bootstrap.min.css set `[hidden] { display: none !important; }` so we also need the `!important` here to be able to override the default hidden behavior on the sphinx rendered scikit-learn.org. See: https://github.com/scikit-learn/scikit-learn/issues/21755 */display: inline-block !important;position: relative;}#sk-container-id-14 div.sk-text-repr-fallback {display: none;}</style><div id=\"sk-container-id-14\" class=\"sk-top-container\"><div class=\"sk-text-repr-fallback\"><pre>XGBClassifier(base_score=None, booster=None, callbacks=None,\n",
       "              colsample_bylevel=None, colsample_bynode=None,\n",
       "              colsample_bytree=None, early_stopping_rounds=None,\n",
       "              enable_categorical=False, eval_metric=None, feature_types=None,\n",
       "              gamma=None, gpu_id=None, grow_policy=None, importance_type=None,\n",
       "              interaction_constraints=None, learning_rate=None, max_bin=None,\n",
       "              max_cat_threshold=None, max_cat_to_onehot=None,\n",
       "              max_delta_step=None, max_depth=None, max_leaves=None,\n",
       "              min_child_weight=None, missing=nan, monotone_constraints=None,\n",
       "              n_estimators=100, n_jobs=None, num_parallel_tree=None,\n",
       "              predictor=None, random_state=None, ...)</pre><b>In a Jupyter environment, please rerun this cell to show the HTML representation or trust the notebook. <br />On GitHub, the HTML representation is unable to render, please try loading this page with nbviewer.org.</b></div><div class=\"sk-container\" hidden><div class=\"sk-item\"><div class=\"sk-estimator sk-toggleable\"><input class=\"sk-toggleable__control sk-hidden--visually\" id=\"sk-estimator-id-14\" type=\"checkbox\" checked><label for=\"sk-estimator-id-14\" class=\"sk-toggleable__label sk-toggleable__label-arrow\">XGBClassifier</label><div class=\"sk-toggleable__content\"><pre>XGBClassifier(base_score=None, booster=None, callbacks=None,\n",
       "              colsample_bylevel=None, colsample_bynode=None,\n",
       "              colsample_bytree=None, early_stopping_rounds=None,\n",
       "              enable_categorical=False, eval_metric=None, feature_types=None,\n",
       "              gamma=None, gpu_id=None, grow_policy=None, importance_type=None,\n",
       "              interaction_constraints=None, learning_rate=None, max_bin=None,\n",
       "              max_cat_threshold=None, max_cat_to_onehot=None,\n",
       "              max_delta_step=None, max_depth=None, max_leaves=None,\n",
       "              min_child_weight=None, missing=nan, monotone_constraints=None,\n",
       "              n_estimators=100, n_jobs=None, num_parallel_tree=None,\n",
       "              predictor=None, random_state=None, ...)</pre></div></div></div></div></div>"
      ],
      "text/plain": [
       "XGBClassifier(base_score=None, booster=None, callbacks=None,\n",
       "              colsample_bylevel=None, colsample_bynode=None,\n",
       "              colsample_bytree=None, early_stopping_rounds=None,\n",
       "              enable_categorical=False, eval_metric=None, feature_types=None,\n",
       "              gamma=None, gpu_id=None, grow_policy=None, importance_type=None,\n",
       "              interaction_constraints=None, learning_rate=None, max_bin=None,\n",
       "              max_cat_threshold=None, max_cat_to_onehot=None,\n",
       "              max_delta_step=None, max_depth=None, max_leaves=None,\n",
       "              min_child_weight=None, missing=nan, monotone_constraints=None,\n",
       "              n_estimators=100, n_jobs=None, num_parallel_tree=None,\n",
       "              predictor=None, random_state=None, ...)"
      ]
     },
     "execution_count": 147,
     "metadata": {},
     "output_type": "execute_result"
    }
   ],
   "source": [
    "xgb_model.fit(X_train, y_train, verbose=False, early_stopping_rounds=15, eval_metric='aucpr', eval_set=[(X_val, y_val)])"
   ]
  },
  {
   "cell_type": "code",
   "execution_count": 148,
   "metadata": {},
   "outputs": [
    {
     "name": "stdout",
     "output_type": "stream",
     "text": [
      "XGBoost model accuracy: 84.85 %\n",
      "XGBoost model precision: 31.58 %\n",
      "XGBoost model recall: 2.97 %\n",
      "XGBoost model f1 score: 5.43 %\n"
     ]
    }
   ],
   "source": [
    "from sklearn.metrics import precision_score, recall_score, f1_score, accuracy_score\n",
    "\n",
    "# Print the accuracy, precision, recall and f1 score\n",
    "print(\"XGBoost model accuracy: {:.2f} %\".format(accuracy_score(y_val, xgb_model.predict(X_val))*100))\n",
    "print(\"XGBoost model precision: {:.2f} %\".format(precision_score(y_val, xgb_model.predict(X_val))*100))\n",
    "print(\"XGBoost model recall: {:.2f} %\".format(recall_score(y_val, xgb_model.predict(X_val))*100))\n",
    "print(\"XGBoost model f1 score: {:.2f} %\".format(f1_score(y_val, xgb_model.predict(X_val))*100))"
   ]
  },
  {
   "attachments": {},
   "cell_type": "markdown",
   "metadata": {},
   "source": [
    "##### ***Plot confusion matrix for validation dataset***"
   ]
  },
  {
   "cell_type": "code",
   "execution_count": 149,
   "metadata": {},
   "outputs": [
    {
     "data": {
      "text/plain": [
       "<sklearn.metrics._plot.confusion_matrix.ConfusionMatrixDisplay at 0x1d911151ac0>"
      ]
     },
     "execution_count": 149,
     "metadata": {},
     "output_type": "execute_result"
    },
    {
     "data": {
      "image/png": "[encoded data removed]",
      "text/plain": [
       "<Figure size 640x480 with 2 Axes>"
      ]
     },
     "metadata": {},
     "output_type": "display_data"
    }
   ],
   "source": [
    "# import plot_confusion_matrix\n",
    "from sklearn.metrics import confusion_matrix, ConfusionMatrixDisplay\n",
    "\n",
    "# predict on validation set\n",
    "xgb_pred = xgb_model.predict(X_val)\n",
    "xgb_cm = confusion_matrix(y_val, xgb_pred, labels=xgb_model.classes_)\n",
    "xgb_disp = ConfusionMatrixDisplay(confusion_matrix=xgb_cm, display_labels=xgb_model.classes_)\n",
    "xgb_disp.plot()"
   ]
  },
  {
   "cell_type": "code",
   "execution_count": 150,
   "metadata": {},
   "outputs": [
    {
     "name": "stdout",
     "output_type": "stream",
     "text": [
      "XGBoost model accuracy: 85.74 %\n",
      "XGBoost model precision: 34.48 %\n",
      "XGBoost model recall: 2.96 %\n",
      "XGBoost model f1 score: 5.45 %\n"
     ]
    }
   ],
   "source": [
    "# Print the accuracy, precision, recall and f1 score\n",
    "print(\"XGBoost model accuracy: {:.2f} %\".format(accuracy_score(y_test, xgb_model.predict(X_test))*100))\n",
    "print(\"XGBoost model precision: {:.2f} %\".format(precision_score(y_test, xgb_model.predict(X_test))*100))\n",
    "print(\"XGBoost model recall: {:.2f} %\".format(recall_score(y_test, xgb_model.predict(X_test))*100))\n",
    "print(\"XGBoost model f1 score: {:.2f} %\".format(f1_score(y_test, xgb_model.predict(X_test))*100))"
   ]
  },
  {
   "attachments": {},
   "cell_type": "markdown",
   "metadata": {},
   "source": [
    "## ***Numerical-only features***"
   ]
  },
  {
   "attachments": {},
   "cell_type": "markdown",
   "metadata": {},
   "source": [
    "### ***Dataset splitting***"
   ]
  },
  {
   "cell_type": "code",
   "execution_count": 110,
   "metadata": {},
   "outputs": [],
   "source": [
    "# split into train and test sets\n",
    "from sklearn.model_selection import train_test_split\n",
    "\n",
    "# Numerical features\n",
    "X = numerical_df.drop(columns=[\"is_detractor\"])\n",
    "y = numerical_df[\"is_detractor\"]\n",
    "\n",
    "X_train, X_test, y_train, y_test = train_test_split(X, y, test_size=0.15)\n",
    "\n",
    "# Split train set into train and validation sets\n",
    "X_train, X_val, y_train, y_val = train_test_split(X_train, y_train, test_size=0.2)\n"
   ]
  },
  {
   "cell_type": "code",
   "execution_count": 111,
   "metadata": {},
   "outputs": [
    {
     "name": "stdout",
     "output_type": "stream",
     "text": [
      "\t\t TRAIN-TEST Size\n",
      "Training set size: \t\t (11032, 9)\n",
      "Validation set size: \t\t (2759, 9)\n",
      "Test set size: \t\t\t (2434, 9)\n",
      "Training set labels size: \t (11032,)\n",
      "Validation set labels size: \t (2759,)\n",
      "Test set labels size: \t\t (2434,)\n"
     ]
    }
   ],
   "source": [
    "print(\"\\t\\t TRAIN-TEST Size\")\n",
    "print(\"Training set size: \\t\\t\", X_train.shape)    \n",
    "print(\"Validation set size: \\t\\t\", X_val.shape)    \n",
    "print(\"Test set size: \\t\\t\\t\", X_test.shape)    \n",
    "print(\"Training set labels size: \\t\", y_train.shape)    \n",
    "print(\"Validation set labels size: \\t\", y_val.shape)    \n",
    "print(\"Test set labels size: \\t\\t\", y_test.shape)   "
   ]
  },
  {
   "cell_type": "code",
   "execution_count": 112,
   "metadata": {},
   "outputs": [
    {
     "name": "stdout",
     "output_type": "stream",
     "text": [
      "\t\t\t CLASS PROPORTIONS\n",
      "TRAINING SET:\n",
      "\tPositive class (detractors):\t  1544 \t 14.00 %\n",
      "\tNegative class (non-detractors): 9488 \t 86.00 %\n",
      "\t\t\t\ttotals:  11032  100.00 %\n",
      "VALIDATION SET:\n",
      "\tPositive class (detractors):\t  391 \t 14.17 %\n",
      "\tNegative class (non-detractors): 2368 \t 85.83 %\n",
      "\t\t\t\ttotals:  2759  100.00 %\n",
      "\n",
      "TEST SET:\n",
      "\tPositive class (detractors):\t  320 \t13.15 %\n",
      "\tNegative class (non-detractors): 2114 \t86.85 %\n",
      "\t\t\t\ttotals:  2434  100.00 %\n"
     ]
    }
   ],
   "source": [
    "# Class proportions\n",
    "detractors_training_set=(y_train==1).sum()\n",
    "non_detractors_training_set=(y_train==0).sum()\n",
    "detractors_validation_set=(y_val==1).sum()\n",
    "non_detractors_validation_set=(y_val==0).sum()\n",
    "detractors_test_set=(y_test==1).sum()\n",
    "non_detractors_test_set=(y_test==0).sum()\n",
    "print(\"\\t\\t\\t CLASS PROPORTIONS\")\n",
    "print(\"TRAINING SET:\")\n",
    "print(\"\\tPositive class (detractors):\\t \", detractors_training_set, \"\\t {:.2f} %\".format(detractors_training_set/len(y_train)*100))    \n",
    "print(\"\\tNegative class (non-detractors):\", non_detractors_training_set, \"\\t {:.2f} %\".format(non_detractors_training_set/len(y_train)*100))    \n",
    "print(\"\\t\\t\\t\\ttotals: \",X_train.shape[0], \" 100.00 %\")\n",
    "print(\"VALIDATION SET:\")\n",
    "print(\"\\tPositive class (detractors):\\t \", detractors_validation_set, \"\\t {:.2f} %\".format(detractors_validation_set/len(y_val)*100))    \n",
    "print(\"\\tNegative class (non-detractors):\", non_detractors_validation_set, \"\\t {:.2f} %\".format(non_detractors_validation_set/len(y_val)*100))    \n",
    "print(\"\\t\\t\\t\\ttotals: \",X_val.shape[0], \" 100.00 %\")\n",
    "print(\"\\nTEST SET:\")\n",
    "print(\"\\tPositive class (detractors):\\t \", detractors_test_set, \"\\t{:.2f} %\".format(detractors_test_set/len(y_test)*100))    \n",
    "print(\"\\tNegative class (non-detractors):\", non_detractors_test_set, \"\\t{:.2f} %\".format(non_detractors_test_set/len(y_test)*100)) \n",
    "print(\"\\t\\t\\t\\ttotals: \",X_test.shape[0], \" 100.00 %\")"
   ]
  },
  {
   "attachments": {},
   "cell_type": "markdown",
   "metadata": {},
   "source": [
    "### ***XGBoost model***"
   ]
  },
  {
   "cell_type": "code",
   "execution_count": 113,
   "metadata": {},
   "outputs": [],
   "source": [
    "import xgboost as xgb\n",
    "from xgboost import XGBClassifier\n",
    "\n",
    "xgb_model = XGBClassifier(objective='binary:logistic')"
   ]
  },
  {
   "cell_type": "code",
   "execution_count": 114,
   "metadata": {},
   "outputs": [
    {
     "name": "stderr",
     "output_type": "stream",
     "text": [
      "c:\\Users\\nahim\\Documents\\Escuela\\Profesional\\10mo sem\\Tesina\\.venv\\lib\\site-packages\\xgboost\\sklearn.py:835: UserWarning: `eval_metric` in `fit` method is deprecated for better compatibility with scikit-learn, use `eval_metric` in constructor or`set_params` instead.\n",
      "  warnings.warn(\n",
      "c:\\Users\\nahim\\Documents\\Escuela\\Profesional\\10mo sem\\Tesina\\.venv\\lib\\site-packages\\xgboost\\sklearn.py:835: UserWarning: `early_stopping_rounds` in `fit` method is deprecated for better compatibility with scikit-learn, use `early_stopping_rounds` in constructor or`set_params` instead.\n",
      "  warnings.warn(\n"
     ]
    },
    {
     "data": {
      "text/html": [
       "<style>#sk-container-id-9 {color: black;background-color: white;}#sk-container-id-9 pre{padding: 0;}#sk-container-id-9 div.sk-toggleable {background-color: white;}#sk-container-id-9 label.sk-toggleable__label {cursor: pointer;display: block;width: 100%;margin-bottom: 0;padding: 0.3em;box-sizing: border-box;text-align: center;}#sk-container-id-9 label.sk-toggleable__label-arrow:before {content: \"▸\";float: left;margin-right: 0.25em;color: #696969;}#sk-container-id-9 label.sk-toggleable__label-arrow:hover:before {color: black;}#sk-container-id-9 div.sk-estimator:hover label.sk-toggleable__label-arrow:before {color: black;}#sk-container-id-9 div.sk-toggleable__content {max-height: 0;max-width: 0;overflow: hidden;text-align: left;background-color: #f0f8ff;}#sk-container-id-9 div.sk-toggleable__content pre {margin: 0.2em;color: black;border-radius: 0.25em;background-color: #f0f8ff;}#sk-container-id-9 input.sk-toggleable__control:checked~div.sk-toggleable__content {max-height: 200px;max-width: 100%;overflow: auto;}#sk-container-id-9 input.sk-toggleable__control:checked~label.sk-toggleable__label-arrow:before {content: \"▾\";}#sk-container-id-9 div.sk-estimator input.sk-toggleable__control:checked~label.sk-toggleable__label {background-color: #d4ebff;}#sk-container-id-9 div.sk-label input.sk-toggleable__control:checked~label.sk-toggleable__label {background-color: #d4ebff;}#sk-container-id-9 input.sk-hidden--visually {border: 0;clip: rect(1px 1px 1px 1px);clip: rect(1px, 1px, 1px, 1px);height: 1px;margin: -1px;overflow: hidden;padding: 0;position: absolute;width: 1px;}#sk-container-id-9 div.sk-estimator {font-family: monospace;background-color: #f0f8ff;border: 1px dotted black;border-radius: 0.25em;box-sizing: border-box;margin-bottom: 0.5em;}#sk-container-id-9 div.sk-estimator:hover {background-color: #d4ebff;}#sk-container-id-9 div.sk-parallel-item::after {content: \"\";width: 100%;border-bottom: 1px solid gray;flex-grow: 1;}#sk-container-id-9 div.sk-label:hover label.sk-toggleable__label {background-color: #d4ebff;}#sk-container-id-9 div.sk-serial::before {content: \"\";position: absolute;border-left: 1px solid gray;box-sizing: border-box;top: 0;bottom: 0;left: 50%;z-index: 0;}#sk-container-id-9 div.sk-serial {display: flex;flex-direction: column;align-items: center;background-color: white;padding-right: 0.2em;padding-left: 0.2em;position: relative;}#sk-container-id-9 div.sk-item {position: relative;z-index: 1;}#sk-container-id-9 div.sk-parallel {display: flex;align-items: stretch;justify-content: center;background-color: white;position: relative;}#sk-container-id-9 div.sk-item::before, #sk-container-id-9 div.sk-parallel-item::before {content: \"\";position: absolute;border-left: 1px solid gray;box-sizing: border-box;top: 0;bottom: 0;left: 50%;z-index: -1;}#sk-container-id-9 div.sk-parallel-item {display: flex;flex-direction: column;z-index: 1;position: relative;background-color: white;}#sk-container-id-9 div.sk-parallel-item:first-child::after {align-self: flex-end;width: 50%;}#sk-container-id-9 div.sk-parallel-item:last-child::after {align-self: flex-start;width: 50%;}#sk-container-id-9 div.sk-parallel-item:only-child::after {width: 0;}#sk-container-id-9 div.sk-dashed-wrapped {border: 1px dashed gray;margin: 0 0.4em 0.5em 0.4em;box-sizing: border-box;padding-bottom: 0.4em;background-color: white;}#sk-container-id-9 div.sk-label label {font-family: monospace;font-weight: bold;display: inline-block;line-height: 1.2em;}#sk-container-id-9 div.sk-label-container {text-align: center;}#sk-container-id-9 div.sk-container {/* jupyter's `normalize.less` sets `[hidden] { display: none; }` but bootstrap.min.css set `[hidden] { display: none !important; }` so we also need the `!important` here to be able to override the default hidden behavior on the sphinx rendered scikit-learn.org. See: https://github.com/scikit-learn/scikit-learn/issues/21755 */display: inline-block !important;position: relative;}#sk-container-id-9 div.sk-text-repr-fallback {display: none;}</style><div id=\"sk-container-id-9\" class=\"sk-top-container\"><div class=\"sk-text-repr-fallback\"><pre>XGBClassifier(base_score=None, booster=None, callbacks=None,\n",
       "              colsample_bylevel=None, colsample_bynode=None,\n",
       "              colsample_bytree=None, early_stopping_rounds=None,\n",
       "              enable_categorical=False, eval_metric=None, feature_types=None,\n",
       "              gamma=None, gpu_id=None, grow_policy=None, importance_type=None,\n",
       "              interaction_constraints=None, learning_rate=None, max_bin=None,\n",
       "              max_cat_threshold=None, max_cat_to_onehot=None,\n",
       "              max_delta_step=None, max_depth=None, max_leaves=None,\n",
       "              min_child_weight=None, missing=nan, monotone_constraints=None,\n",
       "              n_estimators=100, n_jobs=None, num_parallel_tree=None,\n",
       "              predictor=None, random_state=None, ...)</pre><b>In a Jupyter environment, please rerun this cell to show the HTML representation or trust the notebook. <br />On GitHub, the HTML representation is unable to render, please try loading this page with nbviewer.org.</b></div><div class=\"sk-container\" hidden><div class=\"sk-item\"><div class=\"sk-estimator sk-toggleable\"><input class=\"sk-toggleable__control sk-hidden--visually\" id=\"sk-estimator-id-9\" type=\"checkbox\" checked><label for=\"sk-estimator-id-9\" class=\"sk-toggleable__label sk-toggleable__label-arrow\">XGBClassifier</label><div class=\"sk-toggleable__content\"><pre>XGBClassifier(base_score=None, booster=None, callbacks=None,\n",
       "              colsample_bylevel=None, colsample_bynode=None,\n",
       "              colsample_bytree=None, early_stopping_rounds=None,\n",
       "              enable_categorical=False, eval_metric=None, feature_types=None,\n",
       "              gamma=None, gpu_id=None, grow_policy=None, importance_type=None,\n",
       "              interaction_constraints=None, learning_rate=None, max_bin=None,\n",
       "              max_cat_threshold=None, max_cat_to_onehot=None,\n",
       "              max_delta_step=None, max_depth=None, max_leaves=None,\n",
       "              min_child_weight=None, missing=nan, monotone_constraints=None,\n",
       "              n_estimators=100, n_jobs=None, num_parallel_tree=None,\n",
       "              predictor=None, random_state=None, ...)</pre></div></div></div></div></div>"
      ],
      "text/plain": [
       "XGBClassifier(base_score=None, booster=None, callbacks=None,\n",
       "              colsample_bylevel=None, colsample_bynode=None,\n",
       "              colsample_bytree=None, early_stopping_rounds=None,\n",
       "              enable_categorical=False, eval_metric=None, feature_types=None,\n",
       "              gamma=None, gpu_id=None, grow_policy=None, importance_type=None,\n",
       "              interaction_constraints=None, learning_rate=None, max_bin=None,\n",
       "              max_cat_threshold=None, max_cat_to_onehot=None,\n",
       "              max_delta_step=None, max_depth=None, max_leaves=None,\n",
       "              min_child_weight=None, missing=nan, monotone_constraints=None,\n",
       "              n_estimators=100, n_jobs=None, num_parallel_tree=None,\n",
       "              predictor=None, random_state=None, ...)"
      ]
     },
     "execution_count": 114,
     "metadata": {},
     "output_type": "execute_result"
    }
   ],
   "source": [
    "xgb_model.fit(X_train, y_train, verbose=False, early_stopping_rounds=15, eval_metric='aucpr', eval_set=[(X_val, y_val)])"
   ]
  },
  {
   "cell_type": "code",
   "execution_count": 115,
   "metadata": {},
   "outputs": [
    {
     "name": "stdout",
     "output_type": "stream",
     "text": [
      "XGBoost model accuracy: 85.61 %\n",
      "XGBoost model precision: 31.25 %\n",
      "XGBoost model recall: 1.28 %\n",
      "XGBoost model f1 score: 2.46 %\n"
     ]
    }
   ],
   "source": [
    "# Print the accuracy, precision, recall and f1 score\n",
    "print(\"XGBoost model accuracy: {:.2f} %\".format(accuracy_score(y_val, xgb_model.predict(X_val))*100))\n",
    "print(\"XGBoost model precision: {:.2f} %\".format(precision_score(y_val, xgb_model.predict(X_val))*100))\n",
    "print(\"XGBoost model recall: {:.2f} %\".format(recall_score(y_val, xgb_model.predict(X_val))*100))\n",
    "print(\"XGBoost model f1 score: {:.2f} %\".format(f1_score(y_val, xgb_model.predict(X_val))*100))\n"
   ]
  },
  {
   "attachments": {},
   "cell_type": "markdown",
   "metadata": {},
   "source": [
    "##### ***Plot confusion matrix for validation dataset***"
   ]
  },
  {
   "cell_type": "code",
   "execution_count": 116,
   "metadata": {},
   "outputs": [
    {
     "data": {
      "text/plain": [
       "<sklearn.metrics._plot.confusion_matrix.ConfusionMatrixDisplay at 0x1d9112f3a60>"
      ]
     },
     "execution_count": 116,
     "metadata": {},
     "output_type": "execute_result"
    },
    {
     "data": {
      "image/png": "[encoded data removed]",
      "text/plain": [
       "<Figure size 640x480 with 2 Axes>"
      ]
     },
     "metadata": {},
     "output_type": "display_data"
    }
   ],
   "source": [
    "# import plot_confusion_matrix\n",
    "from sklearn.metrics import confusion_matrix, ConfusionMatrixDisplay\n",
    "\n",
    "# predict on validation set\n",
    "xgb_pred = xgb_model.predict(X_val)\n",
    "xgb_cm = confusion_matrix(y_val, xgb_pred, labels=xgb_model.classes_)\n",
    "xgb_disp = ConfusionMatrixDisplay(confusion_matrix=xgb_cm, display_labels=xgb_model.classes_)\n",
    "xgb_disp.plot()"
   ]
  },
  {
   "attachments": {},
   "cell_type": "markdown",
   "metadata": {},
   "source": [
    "### *Parameter tuning*"
   ]
  },
  {
   "cell_type": "code",
   "execution_count": 75,
   "metadata": {},
   "outputs": [],
   "source": [
    "# import GridSearchCV\n",
    "from sklearn.model_selection import GridSearchCV"
   ]
  },
  {
   "attachments": {},
   "cell_type": "markdown",
   "metadata": {},
   "source": [
    "##### ***Set parameters for grid***"
   ]
  },
  {
   "cell_type": "code",
   "execution_count": 117,
   "metadata": {},
   "outputs": [
    {
     "name": "stdout",
     "output_type": "stream",
     "text": [
      "{'gamma': 0, 'learning_rate': 1, 'max_depth': 5, 'n_estimators': 100, 'reg_lambda': 0, 'scale_pos_weight': 5}\n"
     ]
    },
    {
     "name": "stderr",
     "output_type": "stream",
     "text": [
      "c:\\Users\\nahim\\Documents\\Escuela\\Profesional\\10mo sem\\Tesina\\.venv\\lib\\site-packages\\xgboost\\sklearn.py:835: UserWarning: `eval_metric` in `fit` method is deprecated for better compatibility with scikit-learn, use `eval_metric` in constructor or`set_params` instead.\n",
      "  warnings.warn(\n",
      "c:\\Users\\nahim\\Documents\\Escuela\\Profesional\\10mo sem\\Tesina\\.venv\\lib\\site-packages\\xgboost\\sklearn.py:835: UserWarning: `early_stopping_rounds` in `fit` method is deprecated for better compatibility with scikit-learn, use `early_stopping_rounds` in constructor or`set_params` instead.\n",
      "  warnings.warn(\n"
     ]
    }
   ],
   "source": [
    "param_grid = {\n",
    "    'max_depth': [5, 10, 15],\n",
    "    'learning_rate': [0.1, 0.5, 1],\n",
    "    'gamma': [0],\n",
    "    'reg_lambda': [0],\n",
    "    'scale_pos_weight': [1, 3, 5],\n",
    "    'n_estimators': [100, 500, 1000],\n",
    "}\n",
    "\n",
    "optimal_params = GridSearchCV(estimator=XGBClassifier(objective='binary:logistic', subsample=0.9),\n",
    "                                param_grid=param_grid, scoring='f1', verbose=0, n_jobs=10, cv=3)\n",
    "\n",
    "optimal_params.fit(X_train, y_train,\n",
    "                early_stopping_rounds=20, \n",
    "                eval_metric='aucpr', \n",
    "                eval_set=[(X_val, y_val)],\n",
    "                verbose=False)\n",
    "\n",
    "# Print the optimal parameters\n",
    "print(optimal_params.best_params_)\n"
   ]
  },
  {
   "cell_type": "code",
   "execution_count": 118,
   "metadata": {},
   "outputs": [
    {
     "name": "stderr",
     "output_type": "stream",
     "text": [
      "c:\\Users\\nahim\\Documents\\Escuela\\Profesional\\10mo sem\\Tesina\\.venv\\lib\\site-packages\\xgboost\\sklearn.py:835: UserWarning: `eval_metric` in `fit` method is deprecated for better compatibility with scikit-learn, use `eval_metric` in constructor or`set_params` instead.\n",
      "  warnings.warn(\n",
      "c:\\Users\\nahim\\Documents\\Escuela\\Profesional\\10mo sem\\Tesina\\.venv\\lib\\site-packages\\xgboost\\sklearn.py:835: UserWarning: `early_stopping_rounds` in `fit` method is deprecated for better compatibility with scikit-learn, use `early_stopping_rounds` in constructor or`set_params` instead.\n",
      "  warnings.warn(\n"
     ]
    },
    {
     "data": {
      "text/html": [
       "<style>#sk-container-id-10 {color: black;background-color: white;}#sk-container-id-10 pre{padding: 0;}#sk-container-id-10 div.sk-toggleable {background-color: white;}#sk-container-id-10 label.sk-toggleable__label {cursor: pointer;display: block;width: 100%;margin-bottom: 0;padding: 0.3em;box-sizing: border-box;text-align: center;}#sk-container-id-10 label.sk-toggleable__label-arrow:before {content: \"▸\";float: left;margin-right: 0.25em;color: #696969;}#sk-container-id-10 label.sk-toggleable__label-arrow:hover:before {color: black;}#sk-container-id-10 div.sk-estimator:hover label.sk-toggleable__label-arrow:before {color: black;}#sk-container-id-10 div.sk-toggleable__content {max-height: 0;max-width: 0;overflow: hidden;text-align: left;background-color: #f0f8ff;}#sk-container-id-10 div.sk-toggleable__content pre {margin: 0.2em;color: black;border-radius: 0.25em;background-color: #f0f8ff;}#sk-container-id-10 input.sk-toggleable__control:checked~div.sk-toggleable__content {max-height: 200px;max-width: 100%;overflow: auto;}#sk-container-id-10 input.sk-toggleable__control:checked~label.sk-toggleable__label-arrow:before {content: \"▾\";}#sk-container-id-10 div.sk-estimator input.sk-toggleable__control:checked~label.sk-toggleable__label {background-color: #d4ebff;}#sk-container-id-10 div.sk-label input.sk-toggleable__control:checked~label.sk-toggleable__label {background-color: #d4ebff;}#sk-container-id-10 input.sk-hidden--visually {border: 0;clip: rect(1px 1px 1px 1px);clip: rect(1px, 1px, 1px, 1px);height: 1px;margin: -1px;overflow: hidden;padding: 0;position: absolute;width: 1px;}#sk-container-id-10 div.sk-estimator {font-family: monospace;background-color: #f0f8ff;border: 1px dotted black;border-radius: 0.25em;box-sizing: border-box;margin-bottom: 0.5em;}#sk-container-id-10 div.sk-estimator:hover {background-color: #d4ebff;}#sk-container-id-10 div.sk-parallel-item::after {content: \"\";width: 100%;border-bottom: 1px solid gray;flex-grow: 1;}#sk-container-id-10 div.sk-label:hover label.sk-toggleable__label {background-color: #d4ebff;}#sk-container-id-10 div.sk-serial::before {content: \"\";position: absolute;border-left: 1px solid gray;box-sizing: border-box;top: 0;bottom: 0;left: 50%;z-index: 0;}#sk-container-id-10 div.sk-serial {display: flex;flex-direction: column;align-items: center;background-color: white;padding-right: 0.2em;padding-left: 0.2em;position: relative;}#sk-container-id-10 div.sk-item {position: relative;z-index: 1;}#sk-container-id-10 div.sk-parallel {display: flex;align-items: stretch;justify-content: center;background-color: white;position: relative;}#sk-container-id-10 div.sk-item::before, #sk-container-id-10 div.sk-parallel-item::before {content: \"\";position: absolute;border-left: 1px solid gray;box-sizing: border-box;top: 0;bottom: 0;left: 50%;z-index: -1;}#sk-container-id-10 div.sk-parallel-item {display: flex;flex-direction: column;z-index: 1;position: relative;background-color: white;}#sk-container-id-10 div.sk-parallel-item:first-child::after {align-self: flex-end;width: 50%;}#sk-container-id-10 div.sk-parallel-item:last-child::after {align-self: flex-start;width: 50%;}#sk-container-id-10 div.sk-parallel-item:only-child::after {width: 0;}#sk-container-id-10 div.sk-dashed-wrapped {border: 1px dashed gray;margin: 0 0.4em 0.5em 0.4em;box-sizing: border-box;padding-bottom: 0.4em;background-color: white;}#sk-container-id-10 div.sk-label label {font-family: monospace;font-weight: bold;display: inline-block;line-height: 1.2em;}#sk-container-id-10 div.sk-label-container {text-align: center;}#sk-container-id-10 div.sk-container {/* jupyter's `normalize.less` sets `[hidden] { display: none; }` but bootstrap.min.css set `[hidden] { display: none !important; }` so we also need the `!important` here to be able to override the default hidden behavior on the sphinx rendered scikit-learn.org. See: https://github.com/scikit-learn/scikit-learn/issues/21755 */display: inline-block !important;position: relative;}#sk-container-id-10 div.sk-text-repr-fallback {display: none;}</style><div id=\"sk-container-id-10\" class=\"sk-top-container\"><div class=\"sk-text-repr-fallback\"><pre>XGBClassifier(base_score=None, booster=None, callbacks=None,\n",
       "              colsample_bylevel=None, colsample_bynode=None,\n",
       "              colsample_bytree=None, early_stopping_rounds=None,\n",
       "              enable_categorical=False, eval_metric=None, feature_types=None,\n",
       "              gamma=0, gpu_id=None, grow_policy=None, importance_type=None,\n",
       "              interaction_constraints=None, learning_rate=1, max_bin=None,\n",
       "              max_cat_threshold=None, max_cat_to_onehot=None,\n",
       "              max_delta_step=None, max_depth=5, max_leaves=None,\n",
       "              min_child_weight=None, missing=nan, monotone_constraints=None,\n",
       "              n_estimators=100, n_jobs=None, num_parallel_tree=None,\n",
       "              predictor=None, random_state=None, ...)</pre><b>In a Jupyter environment, please rerun this cell to show the HTML representation or trust the notebook. <br />On GitHub, the HTML representation is unable to render, please try loading this page with nbviewer.org.</b></div><div class=\"sk-container\" hidden><div class=\"sk-item\"><div class=\"sk-estimator sk-toggleable\"><input class=\"sk-toggleable__control sk-hidden--visually\" id=\"sk-estimator-id-10\" type=\"checkbox\" checked><label for=\"sk-estimator-id-10\" class=\"sk-toggleable__label sk-toggleable__label-arrow\">XGBClassifier</label><div class=\"sk-toggleable__content\"><pre>XGBClassifier(base_score=None, booster=None, callbacks=None,\n",
       "              colsample_bylevel=None, colsample_bynode=None,\n",
       "              colsample_bytree=None, early_stopping_rounds=None,\n",
       "              enable_categorical=False, eval_metric=None, feature_types=None,\n",
       "              gamma=0, gpu_id=None, grow_policy=None, importance_type=None,\n",
       "              interaction_constraints=None, learning_rate=1, max_bin=None,\n",
       "              max_cat_threshold=None, max_cat_to_onehot=None,\n",
       "              max_delta_step=None, max_depth=5, max_leaves=None,\n",
       "              min_child_weight=None, missing=nan, monotone_constraints=None,\n",
       "              n_estimators=100, n_jobs=None, num_parallel_tree=None,\n",
       "              predictor=None, random_state=None, ...)</pre></div></div></div></div></div>"
      ],
      "text/plain": [
       "XGBClassifier(base_score=None, booster=None, callbacks=None,\n",
       "              colsample_bylevel=None, colsample_bynode=None,\n",
       "              colsample_bytree=None, early_stopping_rounds=None,\n",
       "              enable_categorical=False, eval_metric=None, feature_types=None,\n",
       "              gamma=0, gpu_id=None, grow_policy=None, importance_type=None,\n",
       "              interaction_constraints=None, learning_rate=1, max_bin=None,\n",
       "              max_cat_threshold=None, max_cat_to_onehot=None,\n",
       "              max_delta_step=None, max_depth=5, max_leaves=None,\n",
       "              min_child_weight=None, missing=nan, monotone_constraints=None,\n",
       "              n_estimators=100, n_jobs=None, num_parallel_tree=None,\n",
       "              predictor=None, random_state=None, ...)"
      ]
     },
     "execution_count": 118,
     "metadata": {},
     "output_type": "execute_result"
    }
   ],
   "source": [
    "xgb_model = XGBClassifier(objective='binary:logistic',\n",
    "                    max_depth=5,\n",
    "                    learning_rate=1,\n",
    "                    gamma=0,\n",
    "                    reg_lambda=0,\n",
    "                    scale_pos_weight=5,\n",
    "                    n_estimators=100,\n",
    "                )\n",
    "\n",
    "xgb_model.fit(X_train, \n",
    "            y_train,\n",
    "            verbose=False,\n",
    "            early_stopping_rounds=20,\n",
    "            eval_metric='aucpr',\n",
    "            eval_set=[(X_val, y_val)])"
   ]
  },
  {
   "cell_type": "code",
   "execution_count": 119,
   "metadata": {},
   "outputs": [
    {
     "name": "stdout",
     "output_type": "stream",
     "text": [
      "XGBoost model accuracy: 76.77 %\n",
      "XGBoost model precision: 24.07 %\n",
      "XGBoost model recall: 29.67 %\n",
      "XGBoost model f1 score: 26.58 %\n"
     ]
    }
   ],
   "source": [
    "# Print the accuracy, precision, recall and f1 score\n",
    "print(\"XGBoost model accuracy: {:.2f} %\".format(accuracy_score(y_val, xgb_model.predict(X_val))*100))\n",
    "print(\"XGBoost model precision: {:.2f} %\".format(precision_score(y_val, xgb_model.predict(X_val))*100))\n",
    "print(\"XGBoost model recall: {:.2f} %\".format(recall_score(y_val, xgb_model.predict(X_val))*100))\n",
    "print(\"XGBoost model f1 score: {:.2f} %\".format(f1_score(y_val, xgb_model.predict(X_val))*100))"
   ]
  },
  {
   "cell_type": "code",
   "execution_count": 120,
   "metadata": {},
   "outputs": [
    {
     "data": {
      "text/plain": [
       "<sklearn.metrics._plot.confusion_matrix.ConfusionMatrixDisplay at 0x1d91454ceb0>"
      ]
     },
     "execution_count": 120,
     "metadata": {},
     "output_type": "execute_result"
    },
    {
     "data": {
      "image/png": "[encoded data removed]",
      "text/plain": [
       "<Figure size 640x480 with 2 Axes>"
      ]
     },
     "metadata": {},
     "output_type": "display_data"
    }
   ],
   "source": [
    "# predict on validation set\n",
    "xgb_pred = xgb_model.predict(X_val)\n",
    "xgb_cm = confusion_matrix(y_val, xgb_pred, labels=xgb_model.classes_)\n",
    "xgb_disp = ConfusionMatrixDisplay(confusion_matrix=xgb_cm, display_labels=xgb_model.classes_)\n",
    "xgb_disp.plot()"
   ]
  },
  {
   "cell_type": "code",
   "execution_count": 121,
   "metadata": {},
   "outputs": [
    {
     "name": "stdout",
     "output_type": "stream",
     "text": [
      "XGBoost model accuracy: 77.77 %\n",
      "XGBoost model precision: 22.72 %\n",
      "XGBoost model recall: 28.75 %\n",
      "XGBoost model f1 score: 25.38 %\n"
     ]
    }
   ],
   "source": [
    "# Print the accuracy, precision, recall and f1 score\n",
    "print(\"XGBoost model accuracy: {:.2f} %\".format(accuracy_score(y_test, xgb_model.predict(X_test))*100))\n",
    "print(\"XGBoost model precision: {:.2f} %\".format(precision_score(y_test, xgb_model.predict(X_test))*100))\n",
    "print(\"XGBoost model recall: {:.2f} %\".format(recall_score(y_test, xgb_model.predict(X_test))*100))\n",
    "print(\"XGBoost model f1 score: {:.2f} %\".format(f1_score(y_test, xgb_model.predict(X_test))*100))"
   ]
  },
  {
   "attachments": {},
   "cell_type": "markdown",
   "metadata": {},
   "source": [
    "## ***Numerical-only features - Balanced data***"
   ]
  },
  {
   "cell_type": "code",
   "execution_count": 122,
   "metadata": {},
   "outputs": [
    {
     "name": "stdout",
     "output_type": "stream",
     "text": [
      "Positive class (detractors):\t  2255 \t 50.00 %\n",
      "Negative class (non-detractors): 2255 \t 50.00 %\n"
     ]
    }
   ],
   "source": [
    "from imblearn.under_sampling import RandomUnderSampler\n",
    "from collections import Counter\n",
    "\n",
    "rus = RandomUnderSampler(random_state=42)\n",
    "X_res, y_res = rus.fit_resample(X, y)\n",
    "\n",
    "# Class proportions\n",
    "detractors=(y_res==1).sum()\n",
    "print(\"Positive class (detractors):\\t \", detractors, \"\\t {:.2f} %\".format(detractors/len(y_res)*100))\n",
    "non_detractors=(y_res==0).sum()\n",
    "print(\"Negative class (non-detractors):\", non_detractors, \"\\t {:.2f} %\".format(non_detractors/len(y_res)*100))\n"
   ]
  },
  {
   "cell_type": "code",
   "execution_count": 174,
   "metadata": {},
   "outputs": [],
   "source": [
    "# split into train and test sets\n",
    "from sklearn.model_selection import train_test_split\n",
    "\n",
    "# Numerical features\n",
    "X = X_res\n",
    "y = y_res\n",
    "\n",
    "X_train, X_test, y_train, y_test = train_test_split(X, y, test_size=0.15)\n",
    "\n",
    "# Split train set into train and validation sets\n",
    "X_train, X_val, y_train, y_val = train_test_split(X_train, y_train, test_size=0.2)\n"
   ]
  },
  {
   "cell_type": "code",
   "execution_count": 175,
   "metadata": {},
   "outputs": [
    {
     "name": "stdout",
     "output_type": "stream",
     "text": [
      "\t\t\t CLASS PROPORTIONS\n",
      "TRAINING SET:\n",
      "\tPositive class (detractors):\t  1515 \t 49.41 %\n",
      "\tNegative class (non-detractors): 1551 \t 50.59 %\n",
      "\t\t\t\ttotals:  3066  100.00 %\n",
      "VALIDATION SET:\n",
      "\tPositive class (detractors):\t  397 \t 51.76 %\n",
      "\tNegative class (non-detractors): 370 \t 48.24 %\n",
      "\t\t\t\ttotals:  767  100.00 %\n",
      "\n",
      "TEST SET:\n",
      "\tPositive class (detractors):\t  343 \t50.66 %\n",
      "\tNegative class (non-detractors): 334 \t49.34 %\n",
      "\t\t\t\ttotals:  677  100.00 %\n"
     ]
    }
   ],
   "source": [
    "# Class proportions\n",
    "detractors_training_set=(y_train==1).sum()\n",
    "non_detractors_training_set=(y_train==0).sum()\n",
    "detractors_validation_set=(y_val==1).sum()\n",
    "non_detractors_validation_set=(y_val==0).sum()\n",
    "detractors_test_set=(y_test==1).sum()\n",
    "non_detractors_test_set=(y_test==0).sum()\n",
    "print(\"\\t\\t\\t CLASS PROPORTIONS\")\n",
    "print(\"TRAINING SET:\")\n",
    "print(\"\\tPositive class (detractors):\\t \", detractors_training_set, \"\\t {:.2f} %\".format(detractors_training_set/len(y_train)*100))    \n",
    "print(\"\\tNegative class (non-detractors):\", non_detractors_training_set, \"\\t {:.2f} %\".format(non_detractors_training_set/len(y_train)*100))    \n",
    "print(\"\\t\\t\\t\\ttotals: \",X_train.shape[0], \" 100.00 %\")\n",
    "print(\"VALIDATION SET:\")\n",
    "print(\"\\tPositive class (detractors):\\t \", detractors_validation_set, \"\\t {:.2f} %\".format(detractors_validation_set/len(y_val)*100))    \n",
    "print(\"\\tNegative class (non-detractors):\", non_detractors_validation_set, \"\\t {:.2f} %\".format(non_detractors_validation_set/len(y_val)*100))    \n",
    "print(\"\\t\\t\\t\\ttotals: \",X_val.shape[0], \" 100.00 %\")\n",
    "print(\"\\nTEST SET:\")\n",
    "print(\"\\tPositive class (detractors):\\t \", detractors_test_set, \"\\t{:.2f} %\".format(detractors_test_set/len(y_test)*100))    \n",
    "print(\"\\tNegative class (non-detractors):\", non_detractors_test_set, \"\\t{:.2f} %\".format(non_detractors_test_set/len(y_test)*100)) \n",
    "print(\"\\t\\t\\t\\ttotals: \",X_test.shape[0], \" 100.00 %\")"
   ]
  },
  {
   "attachments": {},
   "cell_type": "markdown",
   "metadata": {},
   "source": [
    "##### ***Set parameters for grid***"
   ]
  },
  {
   "cell_type": "code",
   "execution_count": 176,
   "metadata": {},
   "outputs": [
    {
     "name": "stderr",
     "output_type": "stream",
     "text": [
      "c:\\Users\\nahim\\Documents\\Escuela\\Profesional\\10mo sem\\Tesina\\.venv\\lib\\site-packages\\xgboost\\sklearn.py:835: UserWarning: `eval_metric` in `fit` method is deprecated for better compatibility with scikit-learn, use `eval_metric` in constructor or`set_params` instead.\n",
      "  warnings.warn(\n",
      "c:\\Users\\nahim\\Documents\\Escuela\\Profesional\\10mo sem\\Tesina\\.venv\\lib\\site-packages\\xgboost\\sklearn.py:835: UserWarning: `early_stopping_rounds` in `fit` method is deprecated for better compatibility with scikit-learn, use `early_stopping_rounds` in constructor or`set_params` instead.\n",
      "  warnings.warn(\n"
     ]
    },
    {
     "name": "stdout",
     "output_type": "stream",
     "text": [
      "{'gamma': 0, 'learning_rate': 0.1, 'max_depth': 5, 'n_estimators': 100, 'reg_lambda': 0, 'scale_pos_weight': 5}\n"
     ]
    }
   ],
   "source": [
    "param_grid = {\n",
    "    'max_depth': [5, 10, 15],\n",
    "    'learning_rate': [0.1, 0.5, 1],\n",
    "    'gamma': [0],\n",
    "    'reg_lambda': [0],\n",
    "    'scale_pos_weight': [1, 3, 5],\n",
    "    'n_estimators': [100, 500, 1000],\n",
    "}\n",
    "\n",
    "optimal_params = GridSearchCV(estimator=XGBClassifier(objective='binary:logistic', subsample=0.9),\n",
    "                                param_grid=param_grid, scoring='f1', verbose=0, n_jobs=10, cv=3)\n",
    "\n",
    "optimal_params.fit(X_train, y_train,\n",
    "                early_stopping_rounds=20, \n",
    "                eval_metric='aucpr', \n",
    "                eval_set=[(X_val, y_val)],\n",
    "                verbose=False)\n",
    "\n",
    "# Print the optimal parameters\n",
    "print(optimal_params.best_params_)\n"
   ]
  },
  {
   "cell_type": "code",
   "execution_count": 177,
   "metadata": {},
   "outputs": [
    {
     "name": "stderr",
     "output_type": "stream",
     "text": [
      "c:\\Users\\nahim\\Documents\\Escuela\\Profesional\\10mo sem\\Tesina\\.venv\\lib\\site-packages\\xgboost\\sklearn.py:835: UserWarning: `eval_metric` in `fit` method is deprecated for better compatibility with scikit-learn, use `eval_metric` in constructor or`set_params` instead.\n",
      "  warnings.warn(\n",
      "c:\\Users\\nahim\\Documents\\Escuela\\Profesional\\10mo sem\\Tesina\\.venv\\lib\\site-packages\\xgboost\\sklearn.py:835: UserWarning: `early_stopping_rounds` in `fit` method is deprecated for better compatibility with scikit-learn, use `early_stopping_rounds` in constructor or`set_params` instead.\n",
      "  warnings.warn(\n"
     ]
    },
    {
     "data": {
      "text/html": [
       "<style>#sk-container-id-15 {color: black;background-color: white;}#sk-container-id-15 pre{padding: 0;}#sk-container-id-15 div.sk-toggleable {background-color: white;}#sk-container-id-15 label.sk-toggleable__label {cursor: pointer;display: block;width: 100%;margin-bottom: 0;padding: 0.3em;box-sizing: border-box;text-align: center;}#sk-container-id-15 label.sk-toggleable__label-arrow:before {content: \"▸\";float: left;margin-right: 0.25em;color: #696969;}#sk-container-id-15 label.sk-toggleable__label-arrow:hover:before {color: black;}#sk-container-id-15 div.sk-estimator:hover label.sk-toggleable__label-arrow:before {color: black;}#sk-container-id-15 div.sk-toggleable__content {max-height: 0;max-width: 0;overflow: hidden;text-align: left;background-color: #f0f8ff;}#sk-container-id-15 div.sk-toggleable__content pre {margin: 0.2em;color: black;border-radius: 0.25em;background-color: #f0f8ff;}#sk-container-id-15 input.sk-toggleable__control:checked~div.sk-toggleable__content {max-height: 200px;max-width: 100%;overflow: auto;}#sk-container-id-15 input.sk-toggleable__control:checked~label.sk-toggleable__label-arrow:before {content: \"▾\";}#sk-container-id-15 div.sk-estimator input.sk-toggleable__control:checked~label.sk-toggleable__label {background-color: #d4ebff;}#sk-container-id-15 div.sk-label input.sk-toggleable__control:checked~label.sk-toggleable__label {background-color: #d4ebff;}#sk-container-id-15 input.sk-hidden--visually {border: 0;clip: rect(1px 1px 1px 1px);clip: rect(1px, 1px, 1px, 1px);height: 1px;margin: -1px;overflow: hidden;padding: 0;position: absolute;width: 1px;}#sk-container-id-15 div.sk-estimator {font-family: monospace;background-color: #f0f8ff;border: 1px dotted black;border-radius: 0.25em;box-sizing: border-box;margin-bottom: 0.5em;}#sk-container-id-15 div.sk-estimator:hover {background-color: #d4ebff;}#sk-container-id-15 div.sk-parallel-item::after {content: \"\";width: 100%;border-bottom: 1px solid gray;flex-grow: 1;}#sk-container-id-15 div.sk-label:hover label.sk-toggleable__label {background-color: #d4ebff;}#sk-container-id-15 div.sk-serial::before {content: \"\";position: absolute;border-left: 1px solid gray;box-sizing: border-box;top: 0;bottom: 0;left: 50%;z-index: 0;}#sk-container-id-15 div.sk-serial {display: flex;flex-direction: column;align-items: center;background-color: white;padding-right: 0.2em;padding-left: 0.2em;position: relative;}#sk-container-id-15 div.sk-item {position: relative;z-index: 1;}#sk-container-id-15 div.sk-parallel {display: flex;align-items: stretch;justify-content: center;background-color: white;position: relative;}#sk-container-id-15 div.sk-item::before, #sk-container-id-15 div.sk-parallel-item::before {content: \"\";position: absolute;border-left: 1px solid gray;box-sizing: border-box;top: 0;bottom: 0;left: 50%;z-index: -1;}#sk-container-id-15 div.sk-parallel-item {display: flex;flex-direction: column;z-index: 1;position: relative;background-color: white;}#sk-container-id-15 div.sk-parallel-item:first-child::after {align-self: flex-end;width: 50%;}#sk-container-id-15 div.sk-parallel-item:last-child::after {align-self: flex-start;width: 50%;}#sk-container-id-15 div.sk-parallel-item:only-child::after {width: 0;}#sk-container-id-15 div.sk-dashed-wrapped {border: 1px dashed gray;margin: 0 0.4em 0.5em 0.4em;box-sizing: border-box;padding-bottom: 0.4em;background-color: white;}#sk-container-id-15 div.sk-label label {font-family: monospace;font-weight: bold;display: inline-block;line-height: 1.2em;}#sk-container-id-15 div.sk-label-container {text-align: center;}#sk-container-id-15 div.sk-container {/* jupyter's `normalize.less` sets `[hidden] { display: none; }` but bootstrap.min.css set `[hidden] { display: none !important; }` so we also need the `!important` here to be able to override the default hidden behavior on the sphinx rendered scikit-learn.org. See: https://github.com/scikit-learn/scikit-learn/issues/21755 */display: inline-block !important;position: relative;}#sk-container-id-15 div.sk-text-repr-fallback {display: none;}</style><div id=\"sk-container-id-15\" class=\"sk-top-container\"><div class=\"sk-text-repr-fallback\"><pre>XGBClassifier(base_score=None, booster=None, callbacks=None,\n",
       "              colsample_bylevel=None, colsample_bynode=None,\n",
       "              colsample_bytree=None, early_stopping_rounds=None,\n",
       "              enable_categorical=False, eval_metric=None, feature_types=None,\n",
       "              gamma=0, gpu_id=None, grow_policy=None, importance_type=None,\n",
       "              interaction_constraints=None, learning_rate=0.1, max_bin=None,\n",
       "              max_cat_threshold=None, max_cat_to_onehot=None,\n",
       "              max_delta_step=None, max_depth=5, max_leaves=None,\n",
       "              min_child_weight=None, missing=nan, monotone_constraints=None,\n",
       "              n_estimators=100, n_jobs=None, num_parallel_tree=None,\n",
       "              predictor=None, random_state=None, ...)</pre><b>In a Jupyter environment, please rerun this cell to show the HTML representation or trust the notebook. <br />On GitHub, the HTML representation is unable to render, please try loading this page with nbviewer.org.</b></div><div class=\"sk-container\" hidden><div class=\"sk-item\"><div class=\"sk-estimator sk-toggleable\"><input class=\"sk-toggleable__control sk-hidden--visually\" id=\"sk-estimator-id-15\" type=\"checkbox\" checked><label for=\"sk-estimator-id-15\" class=\"sk-toggleable__label sk-toggleable__label-arrow\">XGBClassifier</label><div class=\"sk-toggleable__content\"><pre>XGBClassifier(base_score=None, booster=None, callbacks=None,\n",
       "              colsample_bylevel=None, colsample_bynode=None,\n",
       "              colsample_bytree=None, early_stopping_rounds=None,\n",
       "              enable_categorical=False, eval_metric=None, feature_types=None,\n",
       "              gamma=0, gpu_id=None, grow_policy=None, importance_type=None,\n",
       "              interaction_constraints=None, learning_rate=0.1, max_bin=None,\n",
       "              max_cat_threshold=None, max_cat_to_onehot=None,\n",
       "              max_delta_step=None, max_depth=5, max_leaves=None,\n",
       "              min_child_weight=None, missing=nan, monotone_constraints=None,\n",
       "              n_estimators=100, n_jobs=None, num_parallel_tree=None,\n",
       "              predictor=None, random_state=None, ...)</pre></div></div></div></div></div>"
      ],
      "text/plain": [
       "XGBClassifier(base_score=None, booster=None, callbacks=None,\n",
       "              colsample_bylevel=None, colsample_bynode=None,\n",
       "              colsample_bytree=None, early_stopping_rounds=None,\n",
       "              enable_categorical=False, eval_metric=None, feature_types=None,\n",
       "              gamma=0, gpu_id=None, grow_policy=None, importance_type=None,\n",
       "              interaction_constraints=None, learning_rate=0.1, max_bin=None,\n",
       "              max_cat_threshold=None, max_cat_to_onehot=None,\n",
       "              max_delta_step=None, max_depth=5, max_leaves=None,\n",
       "              min_child_weight=None, missing=nan, monotone_constraints=None,\n",
       "              n_estimators=100, n_jobs=None, num_parallel_tree=None,\n",
       "              predictor=None, random_state=None, ...)"
      ]
     },
     "execution_count": 177,
     "metadata": {},
     "output_type": "execute_result"
    }
   ],
   "source": [
    "xgb_model = XGBClassifier(objective='binary:logistic',\n",
    "                    max_depth=5,\n",
    "                    learning_rate=0.1,\n",
    "                    gamma=0,\n",
    "                    reg_lambda=0,\n",
    "                    scale_pos_weight=5,\n",
    "                    n_estimators=100,\n",
    "                )\n",
    "\n",
    "xgb_model.fit(X_train, \n",
    "            y_train,\n",
    "            verbose=False,\n",
    "            early_stopping_rounds=20,\n",
    "            eval_metric='aucpr',\n",
    "            eval_set=[(X_val, y_val)])"
   ]
  },
  {
   "cell_type": "code",
   "execution_count": 178,
   "metadata": {},
   "outputs": [
    {
     "name": "stdout",
     "output_type": "stream",
     "text": [
      "XGBoost model accuracy: 52.67 %\n",
      "XGBoost model precision: 52.27 %\n",
      "XGBoost model recall: 98.49 %\n",
      "XGBoost model f1 score: 68.30 %\n"
     ]
    }
   ],
   "source": [
    "# Print the accuracy, precision, recall and f1 score\n",
    "print(\"XGBoost model accuracy: {:.2f} %\".format(accuracy_score(y_val, xgb_model.predict(X_val))*100))\n",
    "print(\"XGBoost model precision: {:.2f} %\".format(precision_score(y_val, xgb_model.predict(X_val))*100))\n",
    "print(\"XGBoost model recall: {:.2f} %\".format(recall_score(y_val, xgb_model.predict(X_val))*100))\n",
    "print(\"XGBoost model f1 score: {:.2f} %\".format(f1_score(y_val, xgb_model.predict(X_val))*100))"
   ]
  },
  {
   "cell_type": "code",
   "execution_count": 180,
   "metadata": {},
   "outputs": [
    {
     "name": "stdout",
     "output_type": "stream",
     "text": [
      "XGBoost model accuracy: 51.40 %\n",
      "XGBoost model precision: 51.06 %\n",
      "XGBoost model recall: 98.54 %\n",
      "XGBoost model f1 score: 67.26 %\n"
     ]
    }
   ],
   "source": [
    "# Print the accuracy, precision, recall and f1 score for test set\n",
    "print(\"XGBoost model accuracy: {:.2f} %\".format(accuracy_score(y_test, xgb_model.predict(X_test))*100))\n",
    "print(\"XGBoost model precision: {:.2f} %\".format(precision_score(y_test, xgb_model.predict(X_test))*100))\n",
    "print(\"XGBoost model recall: {:.2f} %\".format(recall_score(y_test, xgb_model.predict(X_test))*100))\n",
    "print(\"XGBoost model f1 score: {:.2f} %\".format(f1_score(y_test, xgb_model.predict(X_test))*100))"
   ]
  },
  {
   "cell_type": "code",
   "execution_count": 129,
   "metadata": {},
   "outputs": [
    {
     "data": {
      "text/plain": [
       "<sklearn.metrics._plot.confusion_matrix.ConfusionMatrixDisplay at 0x1d913527d60>"
      ]
     },
     "execution_count": 129,
     "metadata": {},
     "output_type": "execute_result"
    },
    {
     "data": {
      "image/png": "[encoded data removed]",
      "text/plain": [
       "<Figure size 640x480 with 2 Axes>"
      ]
     },
     "metadata": {},
     "output_type": "display_data"
    }
   ],
   "source": [
    "# predict on validation set\n",
    "xgb_pred = xgb_model.predict(X_val)\n",
    "xgb_cm = confusion_matrix(y_val, xgb_pred, labels=xgb_model.classes_)\n",
    "xgb_disp = ConfusionMatrixDisplay(confusion_matrix=xgb_cm, display_labels=xgb_model.classes_)\n",
    "xgb_disp.plot()"
   ]
  },
  {
   "cell_type": "code",
   "execution_count": 130,
   "metadata": {},
   "outputs": [
    {
     "name": "stdout",
     "output_type": "stream",
     "text": [
      "XGBoost model accuracy: 51.11 %\n",
      "XGBoost model precision: 51.12 %\n",
      "XGBoost model recall: 98.55 %\n",
      "XGBoost model f1 score: 67.32 %\n"
     ]
    }
   ],
   "source": [
    "# Print the accuracy, precision, recall and f1 score\n",
    "print(\"XGBoost model accuracy: {:.2f} %\".format(accuracy_score(y_test, xgb_model.predict(X_test))*100))\n",
    "print(\"XGBoost model precision: {:.2f} %\".format(precision_score(y_test, xgb_model.predict(X_test))*100))\n",
    "print(\"XGBoost model recall: {:.2f} %\".format(recall_score(y_test, xgb_model.predict(X_test))*100))\n",
    "print(\"XGBoost model f1 score: {:.2f} %\".format(f1_score(y_test, xgb_model.predict(X_test))*100))"
   ]
  },
  {
   "attachments": {},
   "cell_type": "markdown",
   "metadata": {},
   "source": [
    "### Normalizing"
   ]
  },
  {
   "cell_type": "code",
   "execution_count": 196,
   "metadata": {},
   "outputs": [],
   "source": [
    "from sklearn import preprocessing\n",
    "\n",
    "num_cols = ['create_to_deliver', 'create_to_first_offer',\n",
    "            'create_to_visible', 'first_offer_to_delivery', 'hub_to_first_offer',\n",
    "            'ship_to_hub', 'visible_to_ship', 'create_to_ship']\n",
    "\n",
    "norm_df = numerical_df.copy()\n",
    "\n",
    "for col in num_cols:\n",
    "    tmp = np.array(numerical_df[col])\n",
    "    tmp = preprocessing.normalize([tmp])\n",
    "    norm_df[col] = tmp[0]\n"
   ]
  },
  {
   "cell_type": "code",
   "execution_count": 199,
   "metadata": {},
   "outputs": [],
   "source": [
    "# split into train and test sets\n",
    "from sklearn.model_selection import train_test_split\n",
    "\n",
    "# Numerical features\n",
    "X = norm_df.drop(columns=[\"is_detractor\"])\n",
    "y = norm_df[\"is_detractor\"]\n",
    "\n",
    "X_train, X_test, y_train, y_test = train_test_split(X, y, test_size=0.15)\n",
    "\n",
    "# Split train set into train and validation sets\n",
    "X_train, X_val, y_train, y_val = train_test_split(X_train, y_train, test_size=0.2)\n"
   ]
  },
  {
   "cell_type": "code",
   "execution_count": 200,
   "metadata": {},
   "outputs": [
    {
     "name": "stdout",
     "output_type": "stream",
     "text": [
      "\t\t TRAIN-TEST Size\n",
      "Training set size: \t\t (11032, 9)\n",
      "Validation set size: \t\t (2759, 9)\n",
      "Test set size: \t\t\t (2434, 9)\n",
      "Training set labels size: \t (11032,)\n",
      "Validation set labels size: \t (2759,)\n",
      "Test set labels size: \t\t (2434,)\n"
     ]
    }
   ],
   "source": [
    "print(\"\\t\\t TRAIN-TEST Size\")\n",
    "print(\"Training set size: \\t\\t\", X_train.shape)    \n",
    "print(\"Validation set size: \\t\\t\", X_val.shape)    \n",
    "print(\"Test set size: \\t\\t\\t\", X_test.shape)    \n",
    "print(\"Training set labels size: \\t\", y_train.shape)    \n",
    "print(\"Validation set labels size: \\t\", y_val.shape)    \n",
    "print(\"Test set labels size: \\t\\t\", y_test.shape)   "
   ]
  },
  {
   "cell_type": "code",
   "execution_count": 201,
   "metadata": {},
   "outputs": [
    {
     "name": "stdout",
     "output_type": "stream",
     "text": [
      "\t\t\t CLASS PROPORTIONS\n",
      "TRAINING SET:\n",
      "\tPositive class (detractors):\t  1558 \t 14.12 %\n",
      "\tNegative class (non-detractors): 9474 \t 85.88 %\n",
      "\t\t\t\ttotals:  11032  100.00 %\n",
      "VALIDATION SET:\n",
      "\tPositive class (detractors):\t  373 \t 13.52 %\n",
      "\tNegative class (non-detractors): 2386 \t 86.48 %\n",
      "\t\t\t\ttotals:  2759  100.00 %\n",
      "\n",
      "TEST SET:\n",
      "\tPositive class (detractors):\t  324 \t13.31 %\n",
      "\tNegative class (non-detractors): 2110 \t86.69 %\n",
      "\t\t\t\ttotals:  2434  100.00 %\n"
     ]
    }
   ],
   "source": [
    "# Class proportions\n",
    "detractors_training_set=(y_train==1).sum()\n",
    "non_detractors_training_set=(y_train==0).sum()\n",
    "detractors_validation_set=(y_val==1).sum()\n",
    "non_detractors_validation_set=(y_val==0).sum()\n",
    "detractors_test_set=(y_test==1).sum()\n",
    "non_detractors_test_set=(y_test==0).sum()\n",
    "print(\"\\t\\t\\t CLASS PROPORTIONS\")\n",
    "print(\"TRAINING SET:\")\n",
    "print(\"\\tPositive class (detractors):\\t \", detractors_training_set, \"\\t {:.2f} %\".format(detractors_training_set/len(y_train)*100))    \n",
    "print(\"\\tNegative class (non-detractors):\", non_detractors_training_set, \"\\t {:.2f} %\".format(non_detractors_training_set/len(y_train)*100))    \n",
    "print(\"\\t\\t\\t\\ttotals: \",X_train.shape[0], \" 100.00 %\")\n",
    "print(\"VALIDATION SET:\")\n",
    "print(\"\\tPositive class (detractors):\\t \", detractors_validation_set, \"\\t {:.2f} %\".format(detractors_validation_set/len(y_val)*100))    \n",
    "print(\"\\tNegative class (non-detractors):\", non_detractors_validation_set, \"\\t {:.2f} %\".format(non_detractors_validation_set/len(y_val)*100))    \n",
    "print(\"\\t\\t\\t\\ttotals: \",X_val.shape[0], \" 100.00 %\")\n",
    "print(\"\\nTEST SET:\")\n",
    "print(\"\\tPositive class (detractors):\\t \", detractors_test_set, \"\\t{:.2f} %\".format(detractors_test_set/len(y_test)*100))    \n",
    "print(\"\\tNegative class (non-detractors):\", non_detractors_test_set, \"\\t{:.2f} %\".format(non_detractors_test_set/len(y_test)*100)) \n",
    "print(\"\\t\\t\\t\\ttotals: \",X_test.shape[0], \" 100.00 %\")"
   ]
  },
  {
   "cell_type": "code",
   "execution_count": 202,
   "metadata": {},
   "outputs": [
    {
     "name": "stdout",
     "output_type": "stream",
     "text": [
      "{'gamma': 0, 'learning_rate': 1, 'max_depth': 5, 'n_estimators': 100, 'reg_lambda': 0, 'scale_pos_weight': 5}\n"
     ]
    },
    {
     "name": "stderr",
     "output_type": "stream",
     "text": [
      "c:\\Users\\nahim\\Documents\\Escuela\\Profesional\\10mo sem\\Tesina\\.venv\\lib\\site-packages\\xgboost\\sklearn.py:835: UserWarning: `eval_metric` in `fit` method is deprecated for better compatibility with scikit-learn, use `eval_metric` in constructor or`set_params` instead.\n",
      "  warnings.warn(\n",
      "c:\\Users\\nahim\\Documents\\Escuela\\Profesional\\10mo sem\\Tesina\\.venv\\lib\\site-packages\\xgboost\\sklearn.py:835: UserWarning: `early_stopping_rounds` in `fit` method is deprecated for better compatibility with scikit-learn, use `early_stopping_rounds` in constructor or`set_params` instead.\n",
      "  warnings.warn(\n"
     ]
    }
   ],
   "source": [
    "param_grid = {\n",
    "    'max_depth': [5, 10, 15],\n",
    "    'learning_rate': [0.1, 0.5, 1],\n",
    "    'gamma': [0],\n",
    "    'reg_lambda': [0],\n",
    "    'scale_pos_weight': [1, 3, 5],\n",
    "    'n_estimators': [100, 500, 1000],\n",
    "}\n",
    "\n",
    "optimal_params = GridSearchCV(estimator=XGBClassifier(objective='binary:logistic', subsample=0.9),\n",
    "                                param_grid=param_grid, scoring='f1', verbose=0, n_jobs=10, cv=3)\n",
    "\n",
    "optimal_params.fit(X_train, y_train,\n",
    "                early_stopping_rounds=20, \n",
    "                eval_metric='aucpr', \n",
    "                eval_set=[(X_val, y_val)],\n",
    "                verbose=False)\n",
    "\n",
    "# Print the optimal parameters\n",
    "print(optimal_params.best_params_)\n"
   ]
  },
  {
   "cell_type": "code",
   "execution_count": 203,
   "metadata": {},
   "outputs": [
    {
     "name": "stderr",
     "output_type": "stream",
     "text": [
      "c:\\Users\\nahim\\Documents\\Escuela\\Profesional\\10mo sem\\Tesina\\.venv\\lib\\site-packages\\xgboost\\sklearn.py:835: UserWarning: `eval_metric` in `fit` method is deprecated for better compatibility with scikit-learn, use `eval_metric` in constructor or`set_params` instead.\n",
      "  warnings.warn(\n",
      "c:\\Users\\nahim\\Documents\\Escuela\\Profesional\\10mo sem\\Tesina\\.venv\\lib\\site-packages\\xgboost\\sklearn.py:835: UserWarning: `early_stopping_rounds` in `fit` method is deprecated for better compatibility with scikit-learn, use `early_stopping_rounds` in constructor or`set_params` instead.\n",
      "  warnings.warn(\n"
     ]
    },
    {
     "data": {
      "text/html": [
       "<style>#sk-container-id-17 {color: black;background-color: white;}#sk-container-id-17 pre{padding: 0;}#sk-container-id-17 div.sk-toggleable {background-color: white;}#sk-container-id-17 label.sk-toggleable__label {cursor: pointer;display: block;width: 100%;margin-bottom: 0;padding: 0.3em;box-sizing: border-box;text-align: center;}#sk-container-id-17 label.sk-toggleable__label-arrow:before {content: \"▸\";float: left;margin-right: 0.25em;color: #696969;}#sk-container-id-17 label.sk-toggleable__label-arrow:hover:before {color: black;}#sk-container-id-17 div.sk-estimator:hover label.sk-toggleable__label-arrow:before {color: black;}#sk-container-id-17 div.sk-toggleable__content {max-height: 0;max-width: 0;overflow: hidden;text-align: left;background-color: #f0f8ff;}#sk-container-id-17 div.sk-toggleable__content pre {margin: 0.2em;color: black;border-radius: 0.25em;background-color: #f0f8ff;}#sk-container-id-17 input.sk-toggleable__control:checked~div.sk-toggleable__content {max-height: 200px;max-width: 100%;overflow: auto;}#sk-container-id-17 input.sk-toggleable__control:checked~label.sk-toggleable__label-arrow:before {content: \"▾\";}#sk-container-id-17 div.sk-estimator input.sk-toggleable__control:checked~label.sk-toggleable__label {background-color: #d4ebff;}#sk-container-id-17 div.sk-label input.sk-toggleable__control:checked~label.sk-toggleable__label {background-color: #d4ebff;}#sk-container-id-17 input.sk-hidden--visually {border: 0;clip: rect(1px 1px 1px 1px);clip: rect(1px, 1px, 1px, 1px);height: 1px;margin: -1px;overflow: hidden;padding: 0;position: absolute;width: 1px;}#sk-container-id-17 div.sk-estimator {font-family: monospace;background-color: #f0f8ff;border: 1px dotted black;border-radius: 0.25em;box-sizing: border-box;margin-bottom: 0.5em;}#sk-container-id-17 div.sk-estimator:hover {background-color: #d4ebff;}#sk-container-id-17 div.sk-parallel-item::after {content: \"\";width: 100%;border-bottom: 1px solid gray;flex-grow: 1;}#sk-container-id-17 div.sk-label:hover label.sk-toggleable__label {background-color: #d4ebff;}#sk-container-id-17 div.sk-serial::before {content: \"\";position: absolute;border-left: 1px solid gray;box-sizing: border-box;top: 0;bottom: 0;left: 50%;z-index: 0;}#sk-container-id-17 div.sk-serial {display: flex;flex-direction: column;align-items: center;background-color: white;padding-right: 0.2em;padding-left: 0.2em;position: relative;}#sk-container-id-17 div.sk-item {position: relative;z-index: 1;}#sk-container-id-17 div.sk-parallel {display: flex;align-items: stretch;justify-content: center;background-color: white;position: relative;}#sk-container-id-17 div.sk-item::before, #sk-container-id-17 div.sk-parallel-item::before {content: \"\";position: absolute;border-left: 1px solid gray;box-sizing: border-box;top: 0;bottom: 0;left: 50%;z-index: -1;}#sk-container-id-17 div.sk-parallel-item {display: flex;flex-direction: column;z-index: 1;position: relative;background-color: white;}#sk-container-id-17 div.sk-parallel-item:first-child::after {align-self: flex-end;width: 50%;}#sk-container-id-17 div.sk-parallel-item:last-child::after {align-self: flex-start;width: 50%;}#sk-container-id-17 div.sk-parallel-item:only-child::after {width: 0;}#sk-container-id-17 div.sk-dashed-wrapped {border: 1px dashed gray;margin: 0 0.4em 0.5em 0.4em;box-sizing: border-box;padding-bottom: 0.4em;background-color: white;}#sk-container-id-17 div.sk-label label {font-family: monospace;font-weight: bold;display: inline-block;line-height: 1.2em;}#sk-container-id-17 div.sk-label-container {text-align: center;}#sk-container-id-17 div.sk-container {/* jupyter's `normalize.less` sets `[hidden] { display: none; }` but bootstrap.min.css set `[hidden] { display: none !important; }` so we also need the `!important` here to be able to override the default hidden behavior on the sphinx rendered scikit-learn.org. See: https://github.com/scikit-learn/scikit-learn/issues/21755 */display: inline-block !important;position: relative;}#sk-container-id-17 div.sk-text-repr-fallback {display: none;}</style><div id=\"sk-container-id-17\" class=\"sk-top-container\"><div class=\"sk-text-repr-fallback\"><pre>XGBClassifier(base_score=None, booster=None, callbacks=None,\n",
       "              colsample_bylevel=None, colsample_bynode=None,\n",
       "              colsample_bytree=None, early_stopping_rounds=None,\n",
       "              enable_categorical=False, eval_metric=None, feature_types=None,\n",
       "              gamma=0, gpu_id=None, grow_policy=None, importance_type=None,\n",
       "              interaction_constraints=None, learning_rate=1, max_bin=None,\n",
       "              max_cat_threshold=None, max_cat_to_onehot=None,\n",
       "              max_delta_step=None, max_depth=5, max_leaves=None,\n",
       "              min_child_weight=None, missing=nan, monotone_constraints=None,\n",
       "              n_estimators=100, n_jobs=None, num_parallel_tree=None,\n",
       "              predictor=None, random_state=None, ...)</pre><b>In a Jupyter environment, please rerun this cell to show the HTML representation or trust the notebook. <br />On GitHub, the HTML representation is unable to render, please try loading this page with nbviewer.org.</b></div><div class=\"sk-container\" hidden><div class=\"sk-item\"><div class=\"sk-estimator sk-toggleable\"><input class=\"sk-toggleable__control sk-hidden--visually\" id=\"sk-estimator-id-17\" type=\"checkbox\" checked><label for=\"sk-estimator-id-17\" class=\"sk-toggleable__label sk-toggleable__label-arrow\">XGBClassifier</label><div class=\"sk-toggleable__content\"><pre>XGBClassifier(base_score=None, booster=None, callbacks=None,\n",
       "              colsample_bylevel=None, colsample_bynode=None,\n",
       "              colsample_bytree=None, early_stopping_rounds=None,\n",
       "              enable_categorical=False, eval_metric=None, feature_types=None,\n",
       "              gamma=0, gpu_id=None, grow_policy=None, importance_type=None,\n",
       "              interaction_constraints=None, learning_rate=1, max_bin=None,\n",
       "              max_cat_threshold=None, max_cat_to_onehot=None,\n",
       "              max_delta_step=None, max_depth=5, max_leaves=None,\n",
       "              min_child_weight=None, missing=nan, monotone_constraints=None,\n",
       "              n_estimators=100, n_jobs=None, num_parallel_tree=None,\n",
       "              predictor=None, random_state=None, ...)</pre></div></div></div></div></div>"
      ],
      "text/plain": [
       "XGBClassifier(base_score=None, booster=None, callbacks=None,\n",
       "              colsample_bylevel=None, colsample_bynode=None,\n",
       "              colsample_bytree=None, early_stopping_rounds=None,\n",
       "              enable_categorical=False, eval_metric=None, feature_types=None,\n",
       "              gamma=0, gpu_id=None, grow_policy=None, importance_type=None,\n",
       "              interaction_constraints=None, learning_rate=1, max_bin=None,\n",
       "              max_cat_threshold=None, max_cat_to_onehot=None,\n",
       "              max_delta_step=None, max_depth=5, max_leaves=None,\n",
       "              min_child_weight=None, missing=nan, monotone_constraints=None,\n",
       "              n_estimators=100, n_jobs=None, num_parallel_tree=None,\n",
       "              predictor=None, random_state=None, ...)"
      ]
     },
     "execution_count": 203,
     "metadata": {},
     "output_type": "execute_result"
    }
   ],
   "source": [
    "xgb_model = XGBClassifier(objective='binary:logistic',\n",
    "                    max_depth=5,\n",
    "                    learning_rate=1,\n",
    "                    gamma=0,\n",
    "                    reg_lambda=0,\n",
    "                    scale_pos_weight=5,\n",
    "                    n_estimators=100,\n",
    "                )\n",
    "\n",
    "xgb_model.fit(X_train, \n",
    "            y_train,\n",
    "            verbose=False,\n",
    "            early_stopping_rounds=20,\n",
    "            eval_metric='aucpr',\n",
    "            eval_set=[(X_val, y_val)])"
   ]
  },
  {
   "cell_type": "code",
   "execution_count": 204,
   "metadata": {},
   "outputs": [
    {
     "name": "stdout",
     "output_type": "stream",
     "text": [
      "XGBoost model accuracy: 76.69 %\n",
      "XGBoost model precision: 25.18 %\n",
      "XGBoost model recall: 36.73 %\n",
      "XGBoost model f1 score: 29.88 %\n"
     ]
    }
   ],
   "source": [
    "# Print the accuracy, precision, recall and f1 score\n",
    "print(\"XGBoost model accuracy: {:.2f} %\".format(accuracy_score(y_val, xgb_model.predict(X_val))*100))\n",
    "print(\"XGBoost model precision: {:.2f} %\".format(precision_score(y_val, xgb_model.predict(X_val))*100))\n",
    "print(\"XGBoost model recall: {:.2f} %\".format(recall_score(y_val, xgb_model.predict(X_val))*100))\n",
    "print(\"XGBoost model f1 score: {:.2f} %\".format(f1_score(y_val, xgb_model.predict(X_val))*100))"
   ]
  },
  {
   "cell_type": "code",
   "execution_count": 205,
   "metadata": {},
   "outputs": [
    {
     "data": {
      "text/plain": [
       "<sklearn.metrics._plot.confusion_matrix.ConfusionMatrixDisplay at 0x1d911210e50>"
      ]
     },
     "execution_count": 205,
     "metadata": {},
     "output_type": "execute_result"
    },
    {
     "data": {
      "image/png": "[encoded data removed]",
      "text/plain": [
       "<Figure size 640x480 with 2 Axes>"
      ]
     },
     "metadata": {},
     "output_type": "display_data"
    }
   ],
   "source": [
    "# predict on validation set\n",
    "xgb_pred = xgb_model.predict(X_val)\n",
    "xgb_cm = confusion_matrix(y_val, xgb_pred, labels=xgb_model.classes_)\n",
    "xgb_disp = ConfusionMatrixDisplay(confusion_matrix=xgb_cm, display_labels=xgb_model.classes_)\n",
    "xgb_disp.plot()"
   ]
  },
  {
   "cell_type": "code",
   "execution_count": 206,
   "metadata": {},
   "outputs": [
    {
     "name": "stdout",
     "output_type": "stream",
     "text": [
      "XGBoost model accuracy: 76.09 %\n",
      "XGBoost model precision: 23.67 %\n",
      "XGBoost model recall: 35.80 %\n",
      "XGBoost model f1 score: 28.50 %\n"
     ]
    }
   ],
   "source": [
    "# Print the accuracy, precision, recall and f1 score\n",
    "print(\"XGBoost model accuracy: {:.2f} %\".format(accuracy_score(y_test, xgb_model.predict(X_test))*100))\n",
    "print(\"XGBoost model precision: {:.2f} %\".format(precision_score(y_test, xgb_model.predict(X_test))*100))\n",
    "print(\"XGBoost model recall: {:.2f} %\".format(recall_score(y_test, xgb_model.predict(X_test))*100))\n",
    "print(\"XGBoost model f1 score: {:.2f} %\".format(f1_score(y_test, xgb_model.predict(X_test))*100))"
   ]
  },
  {
   "attachments": {},
   "cell_type": "markdown",
   "metadata": {},
   "source": [
    "## ***Anomaly detection algorithm***"
   ]
  },
  {
   "cell_type": "code",
   "execution_count": 158,
   "metadata": {},
   "outputs": [],
   "source": [
    "import numpy as np\n",
    "import pandas as pd\n",
    "import matplotlib.pylab as plt\n",
    "import seaborn as sns\n",
    "from scipy.stats import multivariate_normal\n",
    "from sklearn.metrics import f1_score\n",
    "from sklearn.model_selection import train_test_split"
   ]
  },
  {
   "cell_type": "code",
   "execution_count": 159,
   "metadata": {},
   "outputs": [],
   "source": [
    "\n",
    "#define paramter for feature normalization\n",
    "def feature_normalize(dataset):\n",
    "    mu = np.mean(dataset, axis=0)\n",
    "    sigma = np.std(dataset, axis=0)\n",
    "    return (dataset - mu) / sigma\n",
    "\n",
    "#define the parameter and estimate the Gaussian distribution\n",
    "def estimate_gaussian(dataset):\n",
    "    mu = np.mean(dataset, axis=0)\n",
    "    sigma = np.cov(dataset.T)\n",
    "    return mu, sigma\n",
    "\n",
    "#define the multivariate Gaussian distribution\n",
    "def multivariate_gaussian(dataset, mu, sigma):\n",
    "    p = multivariate_normal(mean=mu, cov=sigma)\n",
    "    return p.pdf(dataset)\n",
    "\n",
    "def select_threshold(probs, test_data):\n",
    "    best_epsilon = 0\n",
    "    best_f1 = 0\n",
    "    f = 0\n",
    "    stepsize = (max(probs) - min(probs)) / 1000;\n",
    "    epsilons = np.arange(min(probs), max(probs), stepsize)\n",
    "    for epsilon in np.nditer(epsilons):\n",
    "        predictions = (probs < epsilon)\n",
    "        f = f1_score(test_data, predictions, average='binary')\n",
    "        if f > best_f1:\n",
    "            best_f1 = f\n",
    "            best_epsilon = epsilon\n",
    "\n",
    "    return best_f1, best_epsilon"
   ]
  },
  {
   "cell_type": "code",
   "execution_count": 160,
   "metadata": {},
   "outputs": [],
   "source": [
    "num_df = numerical_df.copy()\n",
    "numeric_cols = ['has_a_scope', 'create_to_deliver', 'create_to_first_offer',\n",
    "    'create_to_visible', 'first_offer_to_delivery', 'hub_to_first_offer',\n",
    "    'ship_to_hub', 'visible_to_ship', 'create_to_ship']"
   ]
  },
  {
   "cell_type": "code",
   "execution_count": 161,
   "metadata": {},
   "outputs": [],
   "source": [
    "\n",
    "# Make columns Gaussian-like\n",
    "num_df['create_to_deliver'] = np.log(num_df['create_to_deliver']+0.7)\n",
    "num_df['create_to_first_offer'] = np.log(num_df['create_to_first_offer']+0.2)\n",
    "num_df['create_to_visible'] = np.log(num_df['create_to_visible']-0.1)\n",
    "num_df['first_offer_to_delivery'] = num_df['first_offer_to_delivery'] ** 0.35\n",
    "num_df['hub_to_first_offer'] = num_df['hub_to_first_offer'] ** 0.3\n",
    "num_df['ship_to_hub'] = num_df['ship_to_hub'] ** 0.2\n",
    "num_df['visible_to_ship'] = num_df['visible_to_ship'] ** 0.25\n",
    "num_df['create_to_ship'] = num_df['create_to_ship'] ** 0.25\n",
    "\n",
    "# Train-CV-Test splits\n",
    "neg = num_df[num_df['is_detractor'] == 0]\n",
    "x_neg = neg[numeric_cols]\n",
    "y_neg = neg['is_detractor']\n",
    "\n",
    "pos = num_df[num_df['is_detractor'] == 1]\n",
    "x_pos = pos[numeric_cols]\n",
    "y_pos = pos['is_detractor']\n",
    "\n",
    "# Split negative samples\n",
    "x_train_neg, x_val_test_neg, y_train_neg, y_val_test_neg = train_test_split(x_neg, y_neg, train_size = 11715)\n",
    "x_val_neg, x_test_neg, y_val_neg, y_test_neg = train_test_split(x_val_test_neg, y_val_test_neg, train_size = 0.5)\n",
    "\n",
    "# Split positive samples\n",
    "x_val_pos, x_test_pos, y_val_pos, y_test_pos = train_test_split(x_pos, y_pos, train_size=0.5)\n",
    "\n",
    "x_val = pd.concat([x_val_neg, x_val_pos])\n",
    "y_val = pd.concat([y_val_neg, y_val_pos])\n",
    "x_test = pd.concat([x_test_neg, x_test_pos])\n",
    "y_test = pd.concat([y_test_neg, y_test_pos])"
   ]
  },
  {
   "cell_type": "code",
   "execution_count": 163,
   "metadata": {},
   "outputs": [],
   "source": [
    "mu, sigma = estimate_gaussian(x_train_neg)\n",
    "p = multivariate_gaussian(x_train_neg, mu, sigma)\n",
    "\n",
    "# selecting optimal value of epsilon using cross validation\n",
    "p_cv = multivariate_gaussian(x_val, mu, sigma)\n",
    "fscore, ep = select_threshold(p_cv, y_val)\n",
    "\n",
    "predictions = (p_cv < ep)"
   ]
  },
  {
   "cell_type": "code",
   "execution_count": 172,
   "metadata": {},
   "outputs": [],
   "source": [
    "score_df = pd.DataFrame()\n",
    "score_df['y'] = y_val\n",
    "score_df['prob'] = predictions"
   ]
  },
  {
   "cell_type": "code",
   "execution_count": 173,
   "metadata": {},
   "outputs": [
    {
     "name": "stdout",
     "output_type": "stream",
     "text": [
      "Precision score: 0.5229\n",
      "Recall score: 0.9326\n",
      "Accuracy score: 0.5408\n",
      "F1 score: 0.6701\n"
     ]
    }
   ],
   "source": [
    "# Calculate the precision and recall scores using the score_df dataframe\n",
    "precision = score_df[(score_df['y'] == 1) & (score_df['prob'] == 1)].shape[0] / score_df[score_df['prob'] == 1].shape[0]\n",
    "recall = score_df[(score_df['y'] == 1) & (score_df['prob'] == 1)].shape[0] / score_df[score_df['y'] == 1].shape[0]\n",
    "\n",
    "print('Precision score: {:.4f}'.format(precision))\n",
    "print('Recall score: {:.4f}'.format(recall))\n",
    "\n",
    "# Calculate the accuracy score using the score_df dataframe\n",
    "accuracy = (score_df[(score_df['y'] == 1) & (score_df['prob'] == 1)].shape[0] + score_df[(score_df['y'] == 0) & (score_df['prob'] == 0)].shape[0]) / score_df.shape[0]\n",
    "\n",
    "print('Accuracy score: {:.4f}'.format(accuracy))\n",
    "\n",
    "# Calculate the F1 score using the precision and recall variables\n",
    "f1 = 2 * (precision * recall) / (precision + recall)\n",
    "\n",
    "print('F1 score: {:.4f}'.format(f1))"
   ]
  },
  {
   "cell_type": "code",
   "execution_count": 166,
   "metadata": {},
   "outputs": [],
   "source": [
    "# selecting optimal value of epsilon using cross validation\n",
    "p_cv = multivariate_gaussian(x_test, mu, sigma)\n",
    "fscore, ep = select_threshold(p_cv, y_test)\n",
    "\n",
    "predictions = (p_cv < ep)"
   ]
  },
  {
   "cell_type": "code",
   "execution_count": 168,
   "metadata": {},
   "outputs": [],
   "source": [
    "score_df = pd.DataFrame()\n",
    "score_df['y'] = y_test\n",
    "score_df['prob'] = predictions"
   ]
  },
  {
   "cell_type": "code",
   "execution_count": 170,
   "metadata": {},
   "outputs": [
    {
     "name": "stdout",
     "output_type": "stream",
     "text": [
      "Precision score: 0.5036\n",
      "Recall score: 0.9894\n",
      "Accuracy score: 0.5071\n",
      "F1 score: 0.6675\n"
     ]
    }
   ],
   "source": [
    "# Calculate the precision and recall scores using the score_df dataframe\n",
    "precision = score_df[(score_df['y'] == 1) & (score_df['prob'] == 1)].shape[0] / score_df[score_df['prob'] == 1].shape[0]\n",
    "recall = score_df[(score_df['y'] == 1) & (score_df['prob'] == 1)].shape[0] / score_df[score_df['y'] == 1].shape[0]\n",
    "\n",
    "print('Precision score: {:.4f}'.format(precision))\n",
    "print('Recall score: {:.4f}'.format(recall))\n",
    "\n",
    "# Calculate the accuracy score using the score_df dataframe\n",
    "accuracy = (score_df[(score_df['y'] == 1) & (score_df['prob'] == 1)].shape[0] + score_df[(score_df['y'] == 0) & (score_df['prob'] == 0)].shape[0]) / score_df.shape[0]\n",
    "\n",
    "print('Accuracy score: {:.4f}'.format(accuracy))\n",
    "\n",
    "# Calculate the F1 score using the precision and recall variables\n",
    "f1 = 2 * (precision * recall) / (precision + recall)\n",
    "\n",
    "print('F1 score: {:.4f}'.format(f1))"
   ]
  },
  {
   "cell_type": "code",
   "execution_count": 187,
   "metadata": {},
   "outputs": [],
   "source": [
    "# Numerical features\n",
    "X = numerical_df.drop(columns=[\"is_detractor\"])\n",
    "y = numerical_df[\"is_detractor\"]"
   ]
  },
  {
   "cell_type": "code",
   "execution_count": 188,
   "metadata": {},
   "outputs": [
    {
     "name": "stdout",
     "output_type": "stream",
     "text": [
      "Precision score: 0.1389\n",
      "Recall score: 0.9996\n",
      "Accuracy score: 0.1390\n",
      "F1 score: 0.2440\n"
     ]
    }
   ],
   "source": [
    "# selecting optimal value of epsilon using cross validation\n",
    "p_cv = multivariate_gaussian(X, mu, sigma)\n",
    "fscore, ep = select_threshold(p_cv, y)\n",
    "\n",
    "predictions = (p_cv < ep)\n",
    "score_df = pd.DataFrame()\n",
    "score_df['y'] = y\n",
    "score_df['prob'] = predictions\n",
    "\n",
    "# Calculate the precision and recall scores using the score_df dataframe\n",
    "precision = score_df[(score_df['y'] == 1) & (score_df['prob'] == 1)].shape[0] / score_df[score_df['prob'] == 1].shape[0]\n",
    "recall = score_df[(score_df['y'] == 1) & (score_df['prob'] == 1)].shape[0] / score_df[score_df['y'] == 1].shape[0]\n",
    "\n",
    "print('Precision score: {:.4f}'.format(precision))\n",
    "print('Recall score: {:.4f}'.format(recall))\n",
    "\n",
    "# Calculate the accuracy score using the score_df dataframe\n",
    "accuracy = (score_df[(score_df['y'] == 1) & (score_df['prob'] == 1)].shape[0] + score_df[(score_df['y'] == 0) & (score_df['prob'] == 0)].shape[0]) / score_df.shape[0]\n",
    "\n",
    "print('Accuracy score: {:.4f}'.format(accuracy))\n",
    "\n",
    "# Calculate the F1 score using the precision and recall variables\n",
    "f1 = 2 * (precision * recall) / (precision + recall)\n",
    "\n",
    "print('F1 score: {:.4f}'.format(f1))"
   ]
  }
 ],
 "metadata": {
  "kernelspec": {
   "display_name": ".venv",
   "language": "python",
   "name": "python3"
  },
  "language_info": {
   "codemirror_mode": {
    "name": "ipython",
    "version": 3
   },
   "file_extension": ".py",
   "mimetype": "text/x-python",
   "name": "python",
   "nbconvert_exporter": "python",
   "pygments_lexer": "ipython3",
   "version": "3.9.6"
  },
  "orig_nbformat": 4
 },
 "nbformat": 4,
 "nbformat_minor": 2
}
